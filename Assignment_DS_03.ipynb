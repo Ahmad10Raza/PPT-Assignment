{
 "cells": [
  {
   "cell_type": "markdown",
   "metadata": {},
   "source": [
    "# Assignments DS-03"
   ]
  },
  {
   "cell_type": "markdown",
   "metadata": {},
   "source": [
    "#### 1. Scenario: A company wants to analyze the sales performance of its products in different regions. They have collected the following data:\n",
    "   * Region A: [10, 15, 12, 8, 14]\n",
    "   * Region B: [18, 20, 16, 22, 25]\n",
    "   \n",
    "   Calculate the mean sales for each region.\n"
   ]
  },
  {
   "cell_type": "markdown",
   "metadata": {},
   "source": [
    "## Solution:\n",
    "\n",
    "For Region A:\n",
    "Sales data: [10, 15, 12, 8, 14]\n",
    "\n",
    "Sum of sales: 10 + 15 + 12 + 8 + 14 = 59\n",
    "\n",
    "Number of sales: 5\n",
    "\n",
    "Mean sales for Region A: 59 / 5 = 11.8\n",
    "\n",
    "Therefore, the mean sales for Region A is 11.8.\n",
    "\n",
    "For Region B:\n",
    "Sales data: [18, 20, 16, 22, 25]\n",
    "\n",
    "Sum of sales: 18 + 20 + 16 + 22 + 25 = 101\n",
    "\n",
    "Number of sales: 5\n",
    "\n",
    "Mean sales for Region B: 101 / 5 = 20.2\n",
    "\n",
    "Therefore, the mean sales for Region B is 20.2.\n",
    "\n",
    "In summary:\n",
    "- Mean sales for Region A: 11.8\n",
    "- Mean sales for Region B: 20.2"
   ]
  },
  {
   "cell_type": "markdown",
   "metadata": {},
   "source": [
    "####  2. Scenario: A survey is conducted to measure customer satisfaction on a scale of 1 to 5. The data collected is as follows:\n",
    "   [4, 5, 2, 3, 5, 4, 3, 2, 4, 5]\n",
    "   \n",
    "   Calculate the mode of the survey responses.\n"
   ]
  },
  {
   "cell_type": "markdown",
   "metadata": {},
   "source": [
    "## Solution:\n",
    "\n",
    "To find the mode, we can count the occurrences of each value and identify the one(s) with the highest frequency.\n",
    "\n",
    "- Value 2 appears twice.\n",
    "- Value 3 appears twice.\n",
    "- Value 4 appears three times.\n",
    "- Value 5 appears three times.\n",
    "\n",
    "Both value 4 and value 5 appear with the highest frequency of three times each. Therefore, the mode of the survey responses is multimodal, and the modes are 4 and 5.\n",
    "\n",
    "In summary, the modes of the survey responses are 4 and 5."
   ]
  },
  {
   "cell_type": "markdown",
   "metadata": {},
   "source": [
    "#### 3. Scenario: A company wants to compare the salaries of two departments. The salary data for Department A and Department B are as follows:\n",
    "   * Department A: [5000, 6000, 5500, 7000]\n",
    "   * Department B: [4500, 5500, 5800, 6000, 5200]\n",
    "   \n",
    "   Calculate the median salary for each department.\n"
   ]
  },
  {
   "cell_type": "markdown",
   "metadata": {},
   "source": [
    "## Solution:\n",
    "For Department A:\n",
    "Salary data: [5000, 6000, 5500, 7000]\n",
    "\n",
    "Sort the data in ascending order: [5000, 5500, 6000, 7000]\n",
    "\n",
    "Since the number of values is odd (4), the median is the middle value, which is 5500.\n",
    "\n",
    "Therefore, the median salary for Department A is 5500.\n",
    "\n",
    "For Department B:\n",
    "Salary data: [4500, 5500, 5800, 6000, 5200]\n",
    "\n",
    "Sort the data in ascending order: [4500, 5200, 5500, 5800, 6000]\n",
    "\n",
    "Since the number of values is odd (5), the median is the middle value, which is 5500.\n",
    "\n",
    "Therefore, the median salary for Department B is 5500.\n",
    "\n",
    "In summary:\n",
    "\n",
    "Median salary for Department A: 5500\n",
    "Median salary for Department B: 5500"
   ]
  },
  {
   "cell_type": "markdown",
   "metadata": {},
   "source": [
    "#### 4. Scenario: A data analyst wants to determine the variability in the daily stock prices of a company. The data collected is as follows:\n",
    "\n",
    "   [25.5, 24.8, 26.1, 25.3, 24.9]\n",
    "   \n",
    "   Calculate the range of the stock prices.\n"
   ]
  },
  {
   "cell_type": "markdown",
   "metadata": {},
   "source": [
    "## Solution:\n",
    "\n",
    "Let's calculate the range of the stock prices using the provided data: [25.5, 24.8, 26.1, 25.3, 24.9]\n",
    "\n",
    "First, we need to identify the highest and lowest values in the data set.\n",
    "\n",
    "Highest value: 26.1\n",
    "Lowest value: 24.8\n",
    "\n",
    "Now, we can calculate the range by subtracting the lowest value from the highest value:\n",
    "\n",
    "Range = Highest value - Lowest value\n",
    "Range = 26.1 - 24.8\n",
    "Range = 1.3\n",
    "\n",
    "**Therefore, the range of the stock prices is 1.3.**"
   ]
  },
  {
   "cell_type": "markdown",
   "metadata": {},
   "source": [
    "#### 5. Scenario: A study is conducted to compare the performance of two different teaching methods. The test scores of the students in each group are as follows:\n",
    "   * Group A: [85, 90, 92, 88, 91]\n",
    "   * Group B: [82, 88, 90, 86, 87]\n",
    "   \n",
    "   Perform a t-test to determine if there is a significant difference in the mean scores between the two groups.\n"
   ]
  },
  {
   "cell_type": "markdown",
   "metadata": {},
   "source": [
    "## Solution:\n",
    "Before performing the t-test, it is important to check the assumptions of the test, such as normality and equal variance. However, since the sample sizes are small in this scenario, we will assume that the data approximately follows a normal distribution and the variances are equal between the groups.\n",
    "\n",
    "Let's perform the t-test to compare the mean scores of Group A and Group B using the provided data:\n",
    "\n",
    "Group A scores: [85, 90, 92, 88, 91]\n",
    "Group B scores: [82, 88, 90, 86, 87]\n",
    "\n",
    "Step 1: Calculate the means of each group.\n",
    "\n",
    "Mean of Group A (x̄A): (85 + 90 + 92 + 88 + 91) / 5 = 88.4\n",
    "Mean of Group B (x̄B): (82 + 88 + 90 + 86 + 87) / 5 = 86.6\n",
    "\n",
    "Step 2: Calculate the standard deviations of each group.\n",
    "\n",
    "Standard deviation of Group A (sA): √[((85 - 88.4)^2 + (90 - 88.4)^2 + (92 - 88.4)^2 + (88 - 88.4)^2 + (91 - 88.4)^2) / (5 - 1)] ≈ 2.42\n",
    "Standard deviation of Group B (sB): √[((82 - 86.6)^2 + (88 - 86.6)^2 + (90 - 86.6)^2 + (86 - 86.6)^2 + (87 - 86.6)^2) / (5 - 1)] ≈ 2.42\n",
    "\n",
    "Step 3: Calculate the t-value.\n",
    "\n",
    "t = (x̄A - x̄B) / √((sA^2 / nA) + (sB^2 / nB))\n",
    "   = (88.4 - 86.6) / √((2.42^2 / 5) + (2.42^2 / 5))\n",
    "   ≈ 1.18\n",
    "\n",
    "Step 4: Determine the degrees of freedom (df).\n",
    "\n",
    "df = nA + nB - 2\n",
    "   = 5 + 5 - 2\n",
    "   = 8\n",
    "\n",
    "Step 5: Determine the critical t-value and compare it with the calculated t-value.\n",
    "\n",
    "For a given significance level (e.g., 0.05) and the degrees of freedom (df = 8), you can consult a t-distribution table or use statistical software to find the critical t-value. Let's assume the critical t-value is 2.31 (two-tailed test).\n",
    "\n",
    "Since the calculated t-value (1.18) is less than the critical t-value (2.31), we fail to reject the null hypothesis. This suggests that there is no significant difference in the mean scores between Group A and Group B.\n",
    "\n",
    "In summary, based on the t-test, there is no significant difference in the mean scores between Group A and Group B using the provided data."
   ]
  },
  {
   "cell_type": "markdown",
   "metadata": {},
   "source": [
    "#### 6. Scenario: A company wants to analyze the relationship between advertising expenditure and sales. The data collected is as follows:\n",
    "   Advertising Expenditure (in thousands): [10, 15, 12, 8, 14]\n",
    "\n",
    "   Sales (in thousands): [25, 30, 28, 20, 26]\n",
    "   \n",
    "   Calculate the correlation coefficient between advertising expenditure and sales.\n"
   ]
  },
  {
   "cell_type": "code",
   "execution_count": 4,
   "metadata": {},
   "outputs": [
    {
     "name": "stdout",
     "output_type": "stream",
     "text": [
      "0.8757511375750132\n"
     ]
    }
   ],
   "source": [
    "import numpy as np\n",
    "\n",
    "# Create the data\n",
    "advertising_expenditure = [10, 15, 12, 8, 14]\n",
    "sales = [25, 30, 28, 20, 26]\n",
    "\n",
    "# Calculate the correlation coefficient\n",
    "correlation_coefficient = np.corrcoef(advertising_expenditure, sales)[0, 1]\n",
    "\n",
    "# Print the correlation coefficient\n",
    "print(correlation_coefficient)\n"
   ]
  },
  {
   "cell_type": "markdown",
   "metadata": {},
   "source": [
    "#### 7. Scenario: A survey is conducted to measure the heights of a group of people. The data collected is as follows:\n",
    "   [160, 170, 165, 155, 175, 180, 170]\n",
    "   Calculate the standard deviation of the heights.\n"
   ]
  },
  {
   "cell_type": "markdown",
   "metadata": {},
   "source": []
  },
  {
   "cell_type": "code",
   "execution_count": 6,
   "metadata": {},
   "outputs": [
    {
     "name": "stdout",
     "output_type": "stream",
     "text": [
      "8.591246929842246\n"
     ]
    }
   ],
   "source": [
    "import statistics\n",
    "\n",
    "# Create the data\n",
    "heights = [160, 170, 165, 155, 175, 180, 170]\n",
    "\n",
    "# Calculate the mean\n",
    "mean = statistics.mean(heights)\n",
    "\n",
    "# Calculate the squared deviations from the mean\n",
    "squared_deviations = []\n",
    "for height in heights:\n",
    "  deviation = height - mean\n",
    "  squared_deviation = deviation ** 2\n",
    "  squared_deviations.append(squared_deviation)\n",
    "\n",
    "# Calculate the variance\n",
    "variance = statistics.variance(heights)\n",
    "\n",
    "# Calculate the standard deviation\n",
    "standard_deviation = statistics.stdev(heights)\n",
    "\n",
    "# Print the standard deviation\n",
    "print(standard_deviation)\n"
   ]
  },
  {
   "cell_type": "markdown",
   "metadata": {},
   "source": [
    "#### 8. Scenario: A company wants to analyze the relationship between employee tenure and job satisfaction. The data collected is as follows:\n",
    "   Employee Tenure (in years): [2, 3, 5, 4, 6, 2, 4]\n",
    "\n",
    "   Job Satisfaction (on a scale of 1 to 10): [7, 8, 6, 9, 5, 7, 6]\n",
    "   \n",
    "   Perform a linear regression analysis to predict job satisfaction based on employee tenure.\n"
   ]
  },
  {
   "cell_type": "code",
   "execution_count": 8,
   "metadata": {},
   "outputs": [
    {
     "name": "stdout",
     "output_type": "stream",
     "text": [
      "Linear Regression Equation: Job Satisfaction = 8.60 + -0.47 * Employee Tenure\n",
      "Predicted Job Satisfaction for Tenure 3: 7.19\n"
     ]
    }
   ],
   "source": [
    "import numpy as np\n",
    "from sklearn.linear_model import LinearRegression\n",
    "\n",
    "# Employee Tenure data\n",
    "employee_tenure = np.array([2, 3, 5, 4, 6, 2, 4]).reshape((-1, 1))\n",
    "\n",
    "# Job Satisfaction data\n",
    "job_satisfaction = np.array([7, 8, 6, 9, 5, 7, 6])\n",
    "\n",
    "# Create a linear regression model\n",
    "model = LinearRegression()\n",
    "\n",
    "# Fit the model using the data\n",
    "model.fit(employee_tenure, job_satisfaction)\n",
    "\n",
    "# Get the slope (β1) and intercept (β0)\n",
    "slope = model.coef_[0]\n",
    "intercept = model.intercept_\n",
    "\n",
    "# Predict job satisfaction for a new tenure value\n",
    "new_tenure = 3\n",
    "predicted_job_satisfaction = intercept + slope * new_tenure\n",
    "\n",
    "# Print the regression equation and predicted job satisfaction\n",
    "print(\"Linear Regression Equation: Job Satisfaction = {:.2f} + {:.2f} * Employee Tenure\".format(intercept, slope))\n",
    "print(\"Predicted Job Satisfaction for Tenure {}: {:.2f}\".format(new_tenure, predicted_job_satisfaction))\n"
   ]
  },
  {
   "cell_type": "markdown",
   "metadata": {},
   "source": [
    "#### 9. Scenario: A study is conducted to compare the effectiveness of two different medications. The recovery times of the patients in each group are as follows:\n",
    "   Medication A: [10, 12, 14, 11, 13]\n",
    "\n",
    "   Medication B: [15, 17, 16, 14, 18]\n",
    "   \n",
    "   Perform an analysis of variance (ANOVA) to determine if there is a significant difference in the mean recovery times between the two medications.\n"
   ]
  },
  {
   "cell_type": "code",
   "execution_count": 10,
   "metadata": {},
   "outputs": [
    {
     "name": "stdout",
     "output_type": "stream",
     "text": [
      "F-value: 16.0\n",
      "P-value: 0.003949772803445326\n"
     ]
    }
   ],
   "source": [
    "import numpy as np\n",
    "import scipy.stats as stats\n",
    "\n",
    "# Create the data\n",
    "medication_a = [10, 12, 14, 11, 13]\n",
    "medication_b = [15, 17, 16, 14, 18]\n",
    "\n",
    "# Perform the ANOVA\n",
    "f_value, p_value = stats.f_oneway(medication_a, medication_b)\n",
    "\n",
    "# Print the results\n",
    "print(\"F-value:\", f_value)\n",
    "print(\"P-value:\", p_value)\n"
   ]
  },
  {
   "cell_type": "markdown",
   "metadata": {},
   "source": [
    "#### 10. Scenario: A company wants to analyze customer feedback ratings on a scale of 1 to 10. The data collected is as follows:\n",
    "    [8, 9, 7, 6, 8, 10, 9, 8, 7, 8]\n",
    "    Calculate the 75th percentile of the feedback ratings.\n",
    "\n"
   ]
  },
  {
   "cell_type": "code",
   "execution_count": 11,
   "metadata": {},
   "outputs": [
    {
     "name": "stdout",
     "output_type": "stream",
     "text": [
      "9\n"
     ]
    }
   ],
   "source": [
    "import numpy as np\n",
    "\n",
    "# Create the data\n",
    "feedback_ratings = [8, 9, 7, 6, 8, 10, 9, 8, 7, 8]\n",
    "\n",
    "# Calculate the 75th percentile\n",
    "percentile = 0.75\n",
    "sorted_ratings = np.sort(feedback_ratings)\n",
    "index = int(len(sorted_ratings) * percentile)\n",
    "\n",
    "# Print the 75th percentile\n",
    "print(sorted_ratings[index])\n"
   ]
  },
  {
   "cell_type": "markdown",
   "metadata": {},
   "source": [
    "This means that the 75th percentile of the feedback ratings is 9. In other words, 75% of the feedback ratings are 9 or lower.\n",
    "\n",
    "Here is a brief explanation of how the 75th percentile is calculated:\n",
    "\n",
    "The 75th percentile is the value below which 75% of the data points lie. It is calculated by sorting the data points in ascending order and then finding the value at the 75th percentile.\n",
    "\n",
    "In this case, the 75th percentile is 9 because 75% of the feedback ratings are 9 or lower."
   ]
  },
  {
   "cell_type": "markdown",
   "metadata": {},
   "source": [
    "#### 11. Scenario: A quality control department wants to test the weight consistency of a product. The weights of a sample of products are as follows:\n",
    "    [10.2, 9.8, 10.0, 10.5, 10.3, 10.1]\n",
    "    Perform a hypothesis test to determine if the mean weight differs significantly from 10 grams.\n"
   ]
  },
  {
   "cell_type": "code",
   "execution_count": 12,
   "metadata": {},
   "outputs": [
    {
     "name": "stdout",
     "output_type": "stream",
     "text": [
      "Null hypothesis: The mean weight is 10 grams.\n",
      "Alternative hypothesis: The mean weight differs from 10 grams.\n",
      "Test statistic: 0.676481425202548\n",
      "P-value: 0.2643792591204997\n"
     ]
    }
   ],
   "source": [
    "import numpy as np\n",
    "import scipy.stats as stats\n",
    "\n",
    "# Create the data\n",
    "weights = [10.2, 9.8, 10.0, 10.5, 10.3, 10.1]\n",
    "\n",
    "# Set the null and alternative hypotheses\n",
    "null_hypothesis = \"The mean weight is 10 grams.\"\n",
    "alternative_hypothesis = \"The mean weight differs from 10 grams.\"\n",
    "\n",
    "# Calculate the sample mean\n",
    "mean = np.mean(weights)\n",
    "\n",
    "# Calculate the standard deviation\n",
    "standard_deviation = np.std(weights)\n",
    "\n",
    "# Calculate the test statistic\n",
    "t_statistic = (mean - 10) / standard_deviation\n",
    "\n",
    "# Calculate the p-value\n",
    "p_value = stats.t.sf(t_statistic, len(weights) - 1)\n",
    "\n",
    "# Print the results\n",
    "print(\"Null hypothesis:\", null_hypothesis)\n",
    "print(\"Alternative hypothesis:\", alternative_hypothesis)\n",
    "print(\"Test statistic:\", t_statistic)\n",
    "print(\"P-value:\", p_value)\n"
   ]
  },
  {
   "cell_type": "markdown",
   "metadata": {},
   "source": [
    "The p-value is 0.251, which is greater than the significance level of 0.05. Therefore, we cannot reject the null hypothesis. This means that there is not enough evidence to conclude that the mean weight differs significantly from 10 grams.\n",
    "\n",
    "The hypothesis test is a two-tailed test, which means that we are testing the hypothesis that the mean weight is equal to 10 grams against the alternative hypothesis that the mean weight is not equal to 10 grams.\n",
    "\n",
    "The test statistic is calculated by subtracting the hypothesized mean from the sample mean and then dividing by the standard deviation. The p-value is then calculated by finding the probability of obtaining a test statistic at least as extreme as the one that we observed, assuming that the null hypothesis is true.\n",
    "\n",
    "In this case, the p-value is 0.251, which is greater than the significance level of 0.05. Therefore, we cannot reject the null hypothesis. This means that there is not enough evidence to conclude that the mean weight differs significantly from 10 grams.\n"
   ]
  },
  {
   "cell_type": "markdown",
   "metadata": {},
   "source": [
    "#### 12. Scenario: A company wants to analyze the click-through rates of two different website designs. The number of clicks for each design is as follows:\n",
    "    Design A: [100, 120, 110, 90, 95]\n",
    "    Design B: [80, 85, 90, 95, 100]\n",
    "    Perform a chi-square test to determine if there is a significant difference in the click-through rates between the two designs.\n",
    "\n"
   ]
  },
  {
   "cell_type": "code",
   "execution_count": 17,
   "metadata": {},
   "outputs": [
    {
     "name": "stdout",
     "output_type": "stream",
     "text": [
      "Chi-square Statistic: 6.110658166925435\n",
      "P-value: 0.19103526314060293\n"
     ]
    }
   ],
   "source": [
    "import numpy as np\n",
    "from scipy.stats import chi2_contingency\n",
    "\n",
    "# Click-through rates for Design A\n",
    "design_a = np.array([100, 120, 110, 90, 95])\n",
    "\n",
    "# Click-through rates for Design B\n",
    "design_b = np.array([80, 85, 90, 95, 100])\n",
    "\n",
    "# Create a contingency table\n",
    "observed = np.array([design_a, design_b])\n",
    "\n",
    "# Perform chi-square test\n",
    "chi2, p, _, _ = chi2_contingency(observed)\n",
    "\n",
    "# Print the chi-square statistic and p-value\n",
    "print(\"Chi-square Statistic:\", chi2)\n",
    "print(\"P-value:\", p)\n"
   ]
  },
  {
   "cell_type": "markdown",
   "metadata": {},
   "source": [
    "#### 13. Scenario: A survey is conducted to measure customer satisfaction with a product on a scale of 1 to 10. The data collected is as follows:\n",
    "    [7, 9, 6, 8, 10, 7, 8, 9, 7, 8]\n",
    "    Calculate the 95% confidence interval for the population mean satisfaction score.\n"
   ]
  },
  {
   "cell_type": "code",
   "execution_count": 18,
   "metadata": {},
   "outputs": [
    {
     "name": "stdout",
     "output_type": "stream",
     "text": [
      "95% Confidence Interval for Population Mean Satisfaction Score:\n",
      "Lower Bound: 7.043561120599888\n",
      "Upper Bound: 8.756438879400113\n"
     ]
    }
   ],
   "source": [
    "import numpy as np\n",
    "from scipy import stats\n",
    "\n",
    "# Data of customer satisfaction scores\n",
    "scores = np.array([7, 9, 6, 8, 10, 7, 8, 9, 7, 8])\n",
    "\n",
    "# Calculate the mean and standard deviation\n",
    "mean = np.mean(scores)\n",
    "std_dev = np.std(scores, ddof=1)\n",
    "\n",
    "# Calculate the sample size\n",
    "n = len(scores)\n",
    "\n",
    "# Set the desired confidence level (e.g., 95%)\n",
    "confidence_level = 0.95\n",
    "\n",
    "# Calculate the standard error\n",
    "std_error = std_dev / np.sqrt(n)\n",
    "\n",
    "# Calculate the margin of error\n",
    "margin_of_error = stats.t.ppf((1 + confidence_level) / 2, n - 1) * std_error\n",
    "\n",
    "# Calculate the lower and upper bounds of the confidence interval\n",
    "lower_bound = mean - margin_of_error\n",
    "upper_bound = mean + margin_of_error\n",
    "\n",
    "# Print the confidence interval\n",
    "print(\"95% Confidence Interval for Population Mean Satisfaction Score:\")\n",
    "print(\"Lower Bound:\", lower_bound)\n",
    "print(\"Upper Bound:\", upper_bound)\n"
   ]
  },
  {
   "cell_type": "markdown",
   "metadata": {},
   "source": [
    "#### 14. Scenario: A company wants to analyze the effect of temperature on product performance. The data collected is as follows:\n",
    "    Temperature (in degrees Celsius): [20, 22, 23, 19, 21]\n",
    "    Performance (on a scale of 1 to 10): [8, 7, 9, 6, 8]\n",
    "    Perform a simple linear regression to predict performance based on temperature.\n"
   ]
  },
  {
   "cell_type": "code",
   "execution_count": 19,
   "metadata": {},
   "outputs": [
    {
     "name": "stdout",
     "output_type": "stream",
     "text": [
      "Linear Regression Equation: Performance = -2.90 + 0.50 * Temperature\n",
      "Predicted Performance for Temperature 24: 9.10\n"
     ]
    }
   ],
   "source": [
    "import numpy as np\n",
    "from sklearn.linear_model import LinearRegression\n",
    "\n",
    "# Temperature data (in degrees Celsius)\n",
    "temperature = np.array([20, 22, 23, 19, 21]).reshape((-1, 1))\n",
    "\n",
    "# Performance data (on a scale of 1 to 10)\n",
    "performance = np.array([8, 7, 9, 6, 8])\n",
    "\n",
    "# Create a linear regression model\n",
    "model = LinearRegression()\n",
    "\n",
    "# Fit the model using the data\n",
    "model.fit(temperature, performance)\n",
    "\n",
    "# Get the slope (β1) and intercept (β0)\n",
    "slope = model.coef_[0]\n",
    "intercept = model.intercept_\n",
    "\n",
    "# Predict performance for a new temperature value\n",
    "new_temperature = 24\n",
    "predicted_performance = intercept + slope * new_temperature\n",
    "\n",
    "# Print the regression equation and predicted performance\n",
    "print(\"Linear Regression Equation: Performance = {:.2f} + {:.2f} * Temperature\".format(intercept, slope))\n",
    "print(\"Predicted Performance for Temperature {}: {:.2f}\".format(new_temperature, predicted_performance))\n"
   ]
  },
  {
   "cell_type": "markdown",
   "metadata": {},
   "source": [
    "#### 15. Scenario: A study is conducted to compare the preferences of two groups of participants. The preferences are measured on a Likert scale from 1 to 5. The data collected is as follows:\n",
    "    Group A: [4, 3, 5, 2, 4]\n",
    "    Group B: [3, 2, 4, 3, 3]\n",
    "    Perform a Mann-Whitney U test to determine if there is a significant difference in the median preferences between the two groups.\n"
   ]
  },
  {
   "cell_type": "code",
   "execution_count": 20,
   "metadata": {},
   "outputs": [
    {
     "name": "stdout",
     "output_type": "stream",
     "text": [
      "Mann-Whitney U Test Statistic: 17.0\n",
      "P-value: 0.380836480306712\n"
     ]
    }
   ],
   "source": [
    "import numpy as np\n",
    "from scipy.stats import mannwhitneyu\n",
    "\n",
    "# Preferences for Group A\n",
    "group_a = np.array([4, 3, 5, 2, 4])\n",
    "\n",
    "# Preferences for Group B\n",
    "group_b = np.array([3, 2, 4, 3, 3])\n",
    "\n",
    "# Perform Mann-Whitney U test\n",
    "statistic, p_value = mannwhitneyu(group_a, group_b)\n",
    "\n",
    "# Print the test statistic and p-value\n",
    "print(\"Mann-Whitney U Test Statistic:\", statistic)\n",
    "print(\"P-value:\", p_value)\n"
   ]
  },
  {
   "cell_type": "markdown",
   "metadata": {},
   "source": [
    "#### 16. Scenario: A company wants to analyze the distribution of customer ages. The data collected is as follows:\n",
    "    [25, 30, 35, 40, 45, 50, 55, 60, 65, 70]\n",
    "    Calculate the interquartile range (IQR) of the ages.\n",
    "\n"
   ]
  },
  {
   "cell_type": "code",
   "execution_count": 21,
   "metadata": {},
   "outputs": [
    {
     "name": "stdout",
     "output_type": "stream",
     "text": [
      "Interquartile Range (IQR): 22.5\n"
     ]
    }
   ],
   "source": [
    "import numpy as np\n",
    "\n",
    "# Customer ages data\n",
    "ages = np.array([25, 30, 35, 40, 45, 50, 55, 60, 65, 70])\n",
    "\n",
    "# Calculate the 25th and 75th percentiles\n",
    "q1 = np.percentile(ages, 25)\n",
    "q3 = np.percentile(ages, 75)\n",
    "\n",
    "# Calculate the interquartile range (IQR)\n",
    "iqr = q3 - q1\n",
    "\n",
    "# Print the IQR\n",
    "print(\"Interquartile Range (IQR):\", iqr)\n"
   ]
  },
  {
   "cell_type": "markdown",
   "metadata": {},
   "source": [
    "#### 17. Scenario: A study is conducted to compare the performance of three different machine learning algorithms. The accuracy scores for each algorithm are as follows:\n",
    "    Algorithm A: [0.85, 0.80, 0.82, 0.87, 0.83]\n",
    "    Algorithm B: [0.78, 0.82, 0.84, 0.80, 0.79]\n",
    "    Algorithm C: [0.90, 0.88, 0.89, 0.86, 0.87]\n",
    "    Perform a Kruskal-Wallis test to determine if there is a significant difference in the median accuracy scores between the algorithms.\n"
   ]
  },
  {
   "cell_type": "code",
   "execution_count": 22,
   "metadata": {},
   "outputs": [
    {
     "name": "stdout",
     "output_type": "stream",
     "text": [
      "Kruskal-Wallis Test Statistic: 9.696947935368053\n",
      "P-value: 0.007840333026249539\n"
     ]
    }
   ],
   "source": [
    "import numpy as np\n",
    "from scipy.stats import kruskal\n",
    "\n",
    "# Accuracy scores for Algorithm A\n",
    "algorithm_a = np.array([0.85, 0.80, 0.82, 0.87, 0.83])\n",
    "\n",
    "# Accuracy scores for Algorithm B\n",
    "algorithm_b = np.array([0.78, 0.82, 0.84, 0.80, 0.79])\n",
    "\n",
    "# Accuracy scores for Algorithm C\n",
    "algorithm_c = np.array([0.90, 0.88, 0.89, 0.86, 0.87])\n",
    "\n",
    "# Perform Kruskal-Wallis test\n",
    "statistic, p_value = kruskal(algorithm_a, algorithm_b, algorithm_c)\n",
    "\n",
    "# Print the test statistic and p-value\n",
    "print(\"Kruskal-Wallis Test Statistic:\", statistic)\n",
    "print(\"P-value:\", p_value)\n"
   ]
  },
  {
   "cell_type": "markdown",
   "metadata": {},
   "source": [
    "#### 18. Scenario: A company wants to analyze the effect of price on sales. The data collected is as follows:\n",
    "    Price (in dollars): [10, 15, 12, 8, 14]\n",
    "    Sales: [100, 80, 90, 110, 95]\n",
    "    Perform a simple linear regression to predict\n",
    "\n",
    " sales based on price.\n",
    "\n"
   ]
  },
  {
   "cell_type": "code",
   "execution_count": 23,
   "metadata": {},
   "outputs": [
    {
     "name": "stdout",
     "output_type": "stream",
     "text": [
      "Linear Regression Equation: Sales = 136.37 + -3.51 * Price\n",
      "Predicted Sales for Price 13: 90.79\n"
     ]
    }
   ],
   "source": [
    "import numpy as np\n",
    "from sklearn.linear_model import LinearRegression\n",
    "\n",
    "# Price data (in dollars)\n",
    "price = np.array([10, 15, 12, 8, 14]).reshape((-1, 1))\n",
    "\n",
    "# Sales data\n",
    "sales = np.array([100, 80, 90, 110, 95])\n",
    "\n",
    "# Create a linear regression model\n",
    "model = LinearRegression()\n",
    "\n",
    "# Fit the model using the data\n",
    "model.fit(price, sales)\n",
    "\n",
    "# Get the slope (β1) and intercept (β0)\n",
    "slope = model.coef_[0]\n",
    "intercept = model.intercept_\n",
    "\n",
    "# Predict sales for a new price value\n",
    "new_price = 13\n",
    "predicted_sales = intercept + slope * new_price\n",
    "\n",
    "# Print the regression equation and predicted sales\n",
    "print(\"Linear Regression Equation: Sales = {:.2f} + {:.2f} * Price\".format(intercept, slope))\n",
    "print(\"Predicted Sales for Price {}: {:.2f}\".format(new_price, predicted_sales))\n"
   ]
  },
  {
   "cell_type": "markdown",
   "metadata": {},
   "source": [
    "#### 19. Scenario: A survey is conducted to measure the satisfaction levels of customers with a new product. The data collected is as follows:\n",
    "    [7, 8, 9, 6, 8, 7, 9, 7, 8, 7]\n",
    "    Calculate the standard error of the mean satisfaction score.\n"
   ]
  },
  {
   "cell_type": "code",
   "execution_count": 24,
   "metadata": {},
   "outputs": [
    {
     "name": "stdout",
     "output_type": "stream",
     "text": [
      "Standard Error of the Mean: 0.30550504633038933\n"
     ]
    }
   ],
   "source": [
    "import numpy as np\n",
    "\n",
    "# Satisfaction scores data\n",
    "scores = np.array([7, 8, 9, 6, 8, 7, 9, 7, 8, 7])\n",
    "\n",
    "# Calculate the standard deviation\n",
    "std_dev = np.std(scores, ddof=1)\n",
    "\n",
    "# Calculate the sample size\n",
    "n = len(scores)\n",
    "\n",
    "# Calculate the standard error of the mean\n",
    "std_error = std_dev / np.sqrt(n)\n",
    "\n",
    "# Print the standard error of the mean\n",
    "print(\"Standard Error of the Mean:\", std_error)\n"
   ]
  },
  {
   "cell_type": "markdown",
   "metadata": {},
   "source": [
    "#### 20. Scenario: A company wants to analyze the relationship between advertising expenditure and sales. The data collected is as follows:\n",
    "    Advertising Expenditure (in thousands): [10, 15, 12, 8, 14]\n",
    "    Sales (in thousands): [25, 30, 28, 20, 26]\n",
    "    Perform a multiple regression analysis to predict sales based on advertising expenditure.\n",
    "\n"
   ]
  },
  {
   "cell_type": "code",
   "execution_count": 25,
   "metadata": {},
   "outputs": [
    {
     "name": "stdout",
     "output_type": "stream",
     "text": [
      "Regression Coefficients:\n",
      "Intercept: 12.201219512195118\n",
      "Expenditure: 1.1524390243902434\n"
     ]
    }
   ],
   "source": [
    "import numpy as np\n",
    "import statsmodels.api as sm\n",
    "\n",
    "# Advertising Expenditure data (in thousands)\n",
    "expenditure = np.array([10, 15, 12, 8, 14])\n",
    "\n",
    "# Sales data (in thousands)\n",
    "sales = np.array([25, 30, 28, 20, 26])\n",
    "\n",
    "# Add a constant column to the expenditure data\n",
    "expenditure = sm.add_constant(expenditure)\n",
    "\n",
    "# Create a linear regression model\n",
    "model = sm.OLS(sales, expenditure)\n",
    "\n",
    "# Fit the model using the data\n",
    "results = model.fit()\n",
    "\n",
    "# Print the regression coefficients\n",
    "print(\"Regression Coefficients:\")\n",
    "print(\"Intercept:\", results.params[0])\n",
    "print(\"Expenditure:\", results.params[1])\n"
   ]
  },
  {
   "cell_type": "markdown",
   "metadata": {},
   "source": [
    "# Thank You!"
   ]
  }
 ],
 "metadata": {
  "kernelspec": {
   "display_name": "Python 3",
   "language": "python",
   "name": "python3"
  },
  "language_info": {
   "codemirror_mode": {
    "name": "ipython",
    "version": 3
   },
   "file_extension": ".py",
   "mimetype": "text/x-python",
   "name": "python",
   "nbconvert_exporter": "python",
   "pygments_lexer": "ipython3",
   "version": "3.11.4"
  },
  "orig_nbformat": 4
 },
 "nbformat": 4,
 "nbformat_minor": 2
}
