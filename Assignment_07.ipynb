{
 "cells": [
  {
   "attachments": {},
   "cell_type": "markdown",
   "metadata": {},
   "source": [
    "# Assignments 07"
   ]
  },
  {
   "attachments": {},
   "cell_type": "markdown",
   "metadata": {},
   "source": [
    "## 💡 **Question 1**\n",
    "\n",
    "Given two strings s and t, *determine if they are isomorphic*.\n",
    "\n",
    "Two strings s and t are isomorphic if the characters in s can be replaced to get t.\n",
    "\n",
    "All occurrences of a character must be replaced with another character while preserving the order of characters. No two characters may map to the same character, but a character may map to itself.\n",
    "\n",
    "**Example 1:**\n",
    "\n",
    "**Input:** s = \"egg\", t = \"add\"\n",
    "\n",
    "**Output:** true\n",
    "\n"
   ]
  },
  {
   "cell_type": "code",
   "execution_count": 1,
   "metadata": {
    "vscode": {
     "languageId": "java"
    }
   },
   "outputs": [],
   "source": [
    "public static boolean isIsomorphic(String s, String t) {\n",
    "    if (s.length() != t.length()) {\n",
    "        return false; // Different lengths, not isomorphic\n",
    "    }\n",
    "\n",
    "    HashMap<Character, Character> map = new HashMap<>();\n",
    "    HashMap<Character, Boolean> visited = new HashMap<>();\n",
    "\n",
    "    for (int i = 0; i < s.length(); i++) {\n",
    "        char charS = s.charAt(i);\n",
    "        char charT = t.charAt(i);\n",
    "\n",
    "        if (map.containsKey(charS)) {\n",
    "            if (map.get(charS) != charT) {\n",
    "                return false; // Mapping already exists, but not consistent\n",
    "            }\n",
    "        } else {\n",
    "            if (visited.containsKey(charT)) {\n",
    "                return false; // Mapping does not exist, but charT is already mapped to another char\n",
    "            }\n",
    "            map.put(charS, charT);\n",
    "            visited.put(charT, true);\n",
    "        }\n",
    "    }\n",
    "\n",
    "    return true;\n",
    "}"
   ]
  },
  {
   "cell_type": "code",
   "execution_count": 2,
   "metadata": {
    "vscode": {
     "languageId": "java"
    }
   },
   "outputs": [
    {
     "name": "stdout",
     "output_type": "stream",
     "text": [
      "Isomorphic: true\n"
     ]
    }
   ],
   "source": [
    "String s = \"egg\";\n",
    "String t = \"add\";\n",
    "\n",
    "boolean isomorphic = isIsomorphic(s, t);\n",
    "System.out.println(\"Isomorphic: \" + isomorphic);"
   ]
  },
  {
   "attachments": {},
   "cell_type": "markdown",
   "metadata": {},
   "source": [
    "## 💡 **Question 2**\n",
    "\n",
    "Given a string num which represents an integer, return true *if* num *is a **strobogrammatic number***.\n",
    "\n",
    "A **strobogrammatic number** is a number that looks the same when rotated 180 degrees (looked at upside down).\n",
    "\n",
    "**Example 1:**\n",
    "\n",
    "**Input:** num = \"69\"\n",
    "\n",
    "**Output:**\n",
    "\n",
    "true"
   ]
  },
  {
   "cell_type": "code",
   "execution_count": 3,
   "metadata": {
    "vscode": {
     "languageId": "java"
    }
   },
   "outputs": [],
   "source": [
    "public static boolean isStrobogrammatic(String num) {\n",
    "    int left = 0;\n",
    "    int right = num.length() - 1;\n",
    "\n",
    "    while (left <= right) {\n",
    "        char c1 = num.charAt(left);\n",
    "        char c2 = num.charAt(right);\n",
    "\n",
    "        if (!isStrobogrammaticPair(c1, c2)) {\n",
    "            return false;\n",
    "        }\n",
    "\n",
    "        left++;\n",
    "        right--;\n",
    "    }\n",
    "\n",
    "    return true;\n",
    "}\n",
    "\n",
    "private static boolean isStrobogrammaticPair(char c1, char c2) {\n",
    "    return (c1 == '0' && c2 == '0') ||\n",
    "            (c1 == '1' && c2 == '1') ||\n",
    "            (c1 == '6' && c2 == '9') ||\n",
    "            (c1 == '8' && c2 == '8') ||\n",
    "            (c1 == '9' && c2 == '6');\n",
    "}"
   ]
  },
  {
   "cell_type": "code",
   "execution_count": 4,
   "metadata": {
    "vscode": {
     "languageId": "java"
    }
   },
   "outputs": [
    {
     "name": "stdout",
     "output_type": "stream",
     "text": [
      "Is Strobogrammatic: true\n"
     ]
    }
   ],
   "source": [
    "String num = \"69\";\n",
    "boolean isStrobogrammatic = isStrobogrammatic(num);\n",
    "System.out.println(\"Is Strobogrammatic: \" + isStrobogrammatic);\n"
   ]
  },
  {
   "attachments": {},
   "cell_type": "markdown",
   "metadata": {},
   "source": [
    "## 💡 **Question 3**\n",
    "\n",
    "Given two non-negative integers, num1 and num2 represented as string, return *the sum of* num1 *and* num2 *as a string*.\n",
    "\n",
    "You must solve the problem without using any built-in library for handling large integers (such as BigInteger). You must also not convert the inputs to integers directly.\n",
    "\n",
    "**Example 1:**\n",
    "\n",
    "**Input:** num1 = \"11\", num2 = \"123\"\n",
    "\n",
    "**Output:**\n",
    "\"134\"\n"
   ]
  },
  {
   "cell_type": "code",
   "execution_count": 5,
   "metadata": {
    "vscode": {
     "languageId": "java"
    }
   },
   "outputs": [],
   "source": [
    "public static String addStrings(String num1, String num2) {\n",
    "    StringBuilder sum = new StringBuilder();\n",
    "    int carry = 0;\n",
    "    int i = num1.length() - 1;\n",
    "    int j = num2.length() - 1;\n",
    "\n",
    "    while (i >= 0 || j >= 0 || carry > 0) {\n",
    "        int digit1 = (i >= 0) ? num1.charAt(i) - '0' : 0;\n",
    "        int digit2 = (j >= 0) ? num2.charAt(j) - '0' : 0;\n",
    "\n",
    "        int total = digit1 + digit2 + carry;\n",
    "        int digitSum = total % 10;\n",
    "        carry = total / 10;\n",
    "\n",
    "        sum.insert(0, digitSum);\n",
    "\n",
    "        i--;\n",
    "        j--;\n",
    "    }\n",
    "\n",
    "    return sum.toString();\n",
    "}"
   ]
  },
  {
   "cell_type": "code",
   "execution_count": 6,
   "metadata": {
    "vscode": {
     "languageId": "java"
    }
   },
   "outputs": [
    {
     "name": "stdout",
     "output_type": "stream",
     "text": [
      "Sum: 134\n"
     ]
    }
   ],
   "source": [
    "String num1 = \"11\";\n",
    "String num2 = \"123\";\n",
    "String sum = addStrings(num1, num2);\n",
    "System.out.println(\"Sum: \" + sum);"
   ]
  },
  {
   "attachments": {},
   "cell_type": "markdown",
   "metadata": {},
   "source": [
    "## 💡 **Question 4**\n",
    "\n",
    "Given a string s, reverse the order of characters in each word within a sentence while still preserving whitespace and initial word order.\n",
    "\n",
    "**Example 1:**\n",
    "\n",
    "**Input:** s = \"Let's take LeetCode contest\"\n",
    "\n",
    "**Output:** \"s'teL ekat edoCteeL tsetnoc\""
   ]
  },
  {
   "cell_type": "code",
   "execution_count": 8,
   "metadata": {
    "vscode": {
     "languageId": "java"
    }
   },
   "outputs": [],
   "source": [
    "public static String reverseWords(String s) {\n",
    "    String[] words = s.split(\" \");\n",
    "    StringBuilder reversedString = new StringBuilder();\n",
    "\n",
    "    for (int i = 0; i < words.length; i++) {\n",
    "        String word = words[i];\n",
    "        String reversedWord = reverseWord(word);\n",
    "        reversedString.append(reversedWord);\n",
    "\n",
    "        if (i != words.length - 1) {\n",
    "            reversedString.append(\" \");\n",
    "        }\n",
    "    }\n",
    "\n",
    "    return reversedString.toString();\n",
    "}\n",
    "\n",
    "private static String reverseWord(String word) {\n",
    "    char[] chars = word.toCharArray();\n",
    "    int left = 0;\n",
    "    int right = chars.length - 1;\n",
    "\n",
    "    while (left < right) {\n",
    "        char temp = chars[left];\n",
    "        chars[left] = chars[right];\n",
    "        chars[right] = temp;\n",
    "\n",
    "        left++;\n",
    "        right--;\n",
    "    }\n",
    "\n",
    "    return new String(chars);\n",
    "}\n"
   ]
  },
  {
   "cell_type": "code",
   "execution_count": 9,
   "metadata": {
    "vscode": {
     "languageId": "java"
    }
   },
   "outputs": [
    {
     "name": "stdout",
     "output_type": "stream",
     "text": [
      "Reversed Words: s'teL ekat edoCteeL tsetnoc\n"
     ]
    }
   ],
   "source": [
    "String s = \"Let's take LeetCode contest\";\n",
    "String reversedString = reverseWords(s);\n",
    "System.out.println(\"Reversed Words: \" + reversedString);"
   ]
  },
  {
   "attachments": {},
   "cell_type": "markdown",
   "metadata": {},
   "source": [
    "## 💡 **Question 5**\n",
    "\n",
    "Given a string s and an integer k, reverse the first k characters for every 2k characters counting from the start of the string.\n",
    "\n",
    "If there are fewer than k characters left, reverse all of them. If there are less than 2k but greater than or equal to k characters, then reverse the first k characters and leave the other as original.\n",
    "\n",
    "**Example 1:**\n",
    "\n",
    "**Input:** s = \"abcdefg\", k = 2\n",
    "\n",
    "**Output:**\n",
    "\n",
    "\"bacdfeg\"\n"
   ]
  },
  {
   "cell_type": "code",
   "execution_count": 10,
   "metadata": {
    "vscode": {
     "languageId": "java"
    }
   },
   "outputs": [],
   "source": [
    "public static String reverseStr(String s, int k) {\n",
    "    char[] chars = s.toCharArray();\n",
    "    int n = chars.length;\n",
    "\n",
    "    for (int i = 0; i < n; i += 2 * k) {\n",
    "        int left = i;\n",
    "        int right = Math.min(i + k - 1, n - 1);\n",
    "\n",
    "        while (left < right) {\n",
    "            char temp = chars[left];\n",
    "            chars[left] = chars[right];\n",
    "            chars[right] = temp;\n",
    "\n",
    "            left++;\n",
    "            right--;\n",
    "        }\n",
    "    }\n",
    "\n",
    "    return new String(chars);\n",
    "}"
   ]
  },
  {
   "cell_type": "code",
   "execution_count": 11,
   "metadata": {
    "vscode": {
     "languageId": "java"
    }
   },
   "outputs": [
    {
     "name": "stdout",
     "output_type": "stream",
     "text": [
      "Reversed String: bacdfeg\n"
     ]
    }
   ],
   "source": [
    "String s = \"abcdefg\";\n",
    "int k = 2;\n",
    "String reversedString = reverseStr(s, k);\n",
    "System.out.println(\"Reversed String: \" + reversedString);"
   ]
  },
  {
   "attachments": {},
   "cell_type": "markdown",
   "metadata": {},
   "source": [
    "## 💡 **Question 6**\n",
    "\n",
    "Given two strings s and goal, return true *if and only if* s *can become* goal *after some number of **shifts** on* s.\n",
    "\n",
    "A **shift** on s consists of moving the leftmost character of s to the rightmost position.\n",
    "\n",
    "- For example, if s = \"abcde\", then it will be \"bcdea\" after one shift.\n",
    "\n",
    "**Example 1:**\n",
    "\n",
    "**Input:** s = \"abcde\", goal = \"cdeab\"\n",
    "\n",
    "**Output:**\n",
    "\n",
    "true"
   ]
  },
  {
   "cell_type": "code",
   "execution_count": 12,
   "metadata": {
    "vscode": {
     "languageId": "java"
    }
   },
   "outputs": [],
   "source": [
    "public static boolean rotateString(String s, String goal) {\n",
    "    if (s.length() != goal.length()) {\n",
    "        return false;\n",
    "    }\n",
    "\n",
    "    String rotated = s + s;\n",
    "    return rotated.contains(goal);\n",
    "}"
   ]
  },
  {
   "cell_type": "code",
   "execution_count": 13,
   "metadata": {
    "vscode": {
     "languageId": "java"
    }
   },
   "outputs": [
    {
     "name": "stdout",
     "output_type": "stream",
     "text": [
      "Can shift: true\n"
     ]
    }
   ],
   "source": [
    "String s = \"abcde\";\n",
    "String goal = \"cdeab\";\n",
    "boolean canShift = rotateString(s, goal);\n",
    "System.out.println(\"Can shift: \" + canShift);"
   ]
  },
  {
   "attachments": {},
   "cell_type": "markdown",
   "metadata": {},
   "source": [
    "## 💡 **Question 7**\n",
    "\n",
    "Given two strings s and t, return true *if they are equal when both are typed into empty text editors*. '#' means a backspace character.\n",
    "\n",
    "Note that after backspacing an empty text, the text will continue empty.\n",
    "\n",
    "**Example 1:**\n",
    "\n",
    "**Input:** s = \"ab#c\", t = \"ad#c\"\n",
    "\n",
    "**Output:** true\n",
    "\n",
    "**Explanation:**\n",
    "\n",
    "Both s and t become \"ac\".\n"
   ]
  },
  {
   "cell_type": "code",
   "execution_count": 14,
   "metadata": {
    "vscode": {
     "languageId": "java"
    }
   },
   "outputs": [],
   "source": [
    "public static boolean backspaceCompare(String s, String t) {\n",
    "    String processedS = processString(s);\n",
    "    String processedT = processString(t);\n",
    "\n",
    "    return processedS.equals(processedT);\n",
    "}\n",
    "\n",
    "private static String processString(String str) {\n",
    "    StringBuilder processed = new StringBuilder();\n",
    "\n",
    "    for (char c : str.toCharArray()) {\n",
    "        if (c != '#') {\n",
    "            processed.append(c);\n",
    "        } else if (processed.length() > 0) {\n",
    "            processed.deleteCharAt(processed.length() - 1);\n",
    "        }\n",
    "    }\n",
    "\n",
    "    return processed.toString();\n",
    "}"
   ]
  },
  {
   "cell_type": "code",
   "execution_count": 15,
   "metadata": {
    "vscode": {
     "languageId": "java"
    }
   },
   "outputs": [
    {
     "name": "stdout",
     "output_type": "stream",
     "text": [
      "Are equal: true\n"
     ]
    }
   ],
   "source": [
    "String s = \"ab#c\";\n",
    "String t = \"ad#c\";\n",
    "boolean areEqual = backspaceCompare(s, t);\n",
    "System.out.println(\"Are equal: \" + areEqual);"
   ]
  },
  {
   "attachments": {},
   "cell_type": "markdown",
   "metadata": {},
   "source": [
    "## 💡 **Question 8**\n",
    "\n",
    "You are given an array coordinates, coordinates[i] = [x, y], where [x, y] represents the coordinate of a point. Check if these points make a straight line in the XY plane.\n",
    "\n",
    "**Example 1:**\n",
    "\n",
    "**Input:** coordinates = [[1,2],[2,3],[3,4],[4,5],[5,6],[6,7]]\n",
    "\n",
    "**Output:** true"
   ]
  },
  {
   "cell_type": "code",
   "execution_count": 16,
   "metadata": {
    "vscode": {
     "languageId": "java"
    }
   },
   "outputs": [],
   "source": [
    "public static boolean checkStraightLine(int[][] coordinates) {\n",
    "    int x0 = coordinates[0][0];\n",
    "    int y0 = coordinates[0][1];\n",
    "    int x1 = coordinates[1][0];\n",
    "    int y1 = coordinates[1][1];\n",
    "\n",
    "    for (int i = 2; i < coordinates.length; i++) {\n",
    "        int x = coordinates[i][0];\n",
    "        int y = coordinates[i][1];\n",
    "\n",
    "        if ((y1 - y0) * (x - x0) != (x1 - x0) * (y - y0)) {\n",
    "            return false;\n",
    "        }\n",
    "    }\n",
    "\n",
    "    return true;\n",
    "}"
   ]
  },
  {
   "cell_type": "code",
   "execution_count": 17,
   "metadata": {
    "vscode": {
     "languageId": "java"
    }
   },
   "outputs": [
    {
     "name": "stdout",
     "output_type": "stream",
     "text": [
      "Is straight line: true\n"
     ]
    }
   ],
   "source": [
    "int[][] coordinates = {{1, 2}, {2, 3}, {3, 4}, {4, 5}, {5, 6}, {6, 7}};\n",
    "boolean isStraightLine = checkStraightLine(coordinates);\n",
    "System.out.println(\"Is straight line: \" + isStraightLine);"
   ]
  },
  {
   "attachments": {},
   "cell_type": "markdown",
   "metadata": {},
   "source": [
    "# Thank You!"
   ]
  }
 ],
 "metadata": {
  "kernelspec": {
   "display_name": "Java",
   "language": "java",
   "name": "java"
  },
  "language_info": {
   "codemirror_mode": "java",
   "file_extension": ".jshell",
   "mimetype": "text/x-java-source",
   "name": "Java",
   "pygments_lexer": "java",
   "version": "17.0.6+10-Debian-1"
  },
  "orig_nbformat": 4
 },
 "nbformat": 4,
 "nbformat_minor": 2
}
