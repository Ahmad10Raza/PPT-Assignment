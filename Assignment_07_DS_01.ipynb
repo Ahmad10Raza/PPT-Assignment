{
 "cells": [
  {
   "attachments": {},
   "cell_type": "markdown",
   "metadata": {},
   "source": [
    "# Assignment Core Module DS-01"
   ]
  },
  {
   "attachments": {},
   "cell_type": "markdown",
   "metadata": {},
   "source": [
    "## 1. Write a Python program to reverse a string without using any built-in string reversal functions."
   ]
  },
  {
   "cell_type": "code",
   "execution_count": 6,
   "metadata": {},
   "outputs": [
    {
     "name": "stdout",
     "output_type": "stream",
     "text": [
      "The reversed string is: !dlrow ,olleH\n"
     ]
    }
   ],
   "source": [
    "def reverse_string(string):\n",
    "  reversed_string = \"\"\n",
    "  for i in range(len(string) - 1, -1, -1):\n",
    "    reversed_string += string[i]\n",
    "  return reversed_string\n",
    "\n",
    "\n",
    "if __name__ == \"__main__\":\n",
    "  string = \"Hello, world!\"\n",
    "  reversed_string = reverse_string(string)\n",
    "  print(f\"The reversed string is: {reversed_string}\")\n"
   ]
  },
  {
   "attachments": {},
   "cell_type": "markdown",
   "metadata": {},
   "source": [
    "## 2. Implement a function to check if a given string is a palindrome."
   ]
  },
  {
   "cell_type": "code",
   "execution_count": 3,
   "metadata": {},
   "outputs": [
    {
     "name": "stdout",
     "output_type": "stream",
     "text": [
      "Is racecar a palindrome? True\n"
     ]
    }
   ],
   "source": [
    "def is_palindrome(string):\n",
    "  reversed_string = \"\"\n",
    "  for i in range(len(string) - 1, -1, -1):\n",
    "    reversed_string += string[i]\n",
    "  return string == reversed_string\n",
    "\n",
    "\n",
    "if __name__ == \"__main__\":\n",
    "  string = \"racecar\"\n",
    "  print(f\"Is {string} a palindrome? {is_palindrome(string)}\")\n"
   ]
  },
  {
   "attachments": {},
   "cell_type": "markdown",
   "metadata": {},
   "source": [
    "## 3. Write a program to find the largest element in a given list."
   ]
  },
  {
   "cell_type": "code",
   "execution_count": 4,
   "metadata": {},
   "outputs": [
    {
     "name": "stdout",
     "output_type": "stream",
     "text": [
      "The largest element in the list is 10\n"
     ]
    }
   ],
   "source": [
    "def find_largest_element(list_of_numbers):\n",
    "  largest_element = list_of_numbers[0]\n",
    "  for number in list_of_numbers:\n",
    "    if number > largest_element:\n",
    "      largest_element = number\n",
    "  return largest_element\n",
    "\n",
    "\n",
    "if __name__ == \"__main__\":\n",
    "  list_of_numbers = [10, 4, 2, 9, 7, 5, 1, 3, 6, 8]\n",
    "  largest_element = find_largest_element(list_of_numbers)\n",
    "  print(f\"The largest element in the list is {largest_element}\")\n"
   ]
  },
  {
   "attachments": {},
   "cell_type": "markdown",
   "metadata": {},
   "source": [
    "## 4. Implement a function to count the occurrence of each element in a list."
   ]
  },
  {
   "cell_type": "code",
   "execution_count": 5,
   "metadata": {},
   "outputs": [
    {
     "name": "stdout",
     "output_type": "stream",
     "text": [
      "The occurrence counts are: {1: 3, 2: 3, 3: 2, 4: 1, 5: 1}\n"
     ]
    }
   ],
   "source": [
    "def count_occurrences(list_of_elements):\n",
    "  occurrence_counts = {}\n",
    "  for element in list_of_elements:\n",
    "    if element in occurrence_counts:\n",
    "      occurrence_counts[element] += 1\n",
    "    else:\n",
    "      occurrence_counts[element] = 1\n",
    "  return occurrence_counts\n",
    "\n",
    "\n",
    "if __name__ == \"__main__\":\n",
    "  list_of_elements = [1, 2, 3, 1, 2, 3, 4, 5, 1, 2]\n",
    "  occurrence_counts = count_occurrences(list_of_elements)\n",
    "  print(f\"The occurrence counts are: {occurrence_counts}\")\n"
   ]
  },
  {
   "attachments": {},
   "cell_type": "markdown",
   "metadata": {},
   "source": [
    "## 5. Write a Python program to find the second largest number in a list."
   ]
  },
  {
   "cell_type": "code",
   "execution_count": 7,
   "metadata": {},
   "outputs": [
    {
     "name": "stdout",
     "output_type": "stream",
     "text": [
      "The second largest number in the list is 9\n"
     ]
    }
   ],
   "source": [
    "def find_second_largest_number(list_of_numbers):\n",
    "  list_of_numbers.sort()\n",
    "  return list_of_numbers[-2]\n",
    "\n",
    "\n",
    "if __name__ == \"__main__\":\n",
    "  list_of_numbers = [10, 4, 2, 9, 7, 5, 1, 3, 6, 8]\n",
    "  second_largest_number = find_second_largest_number(list_of_numbers)\n",
    "  print(f\"The second largest number in the list is {second_largest_number}\")\n"
   ]
  },
  {
   "attachments": {},
   "cell_type": "markdown",
   "metadata": {},
   "source": [
    "## 6. Implement a function to remove duplicate elements from a list."
   ]
  },
  {
   "cell_type": "code",
   "execution_count": 8,
   "metadata": {},
   "outputs": [
    {
     "name": "stdout",
     "output_type": "stream",
     "text": [
      "The new list without duplicates is: [1, 2, 3, 4, 5]\n"
     ]
    }
   ],
   "source": [
    "def remove_duplicates(list_of_elements):\n",
    "  new_list = []\n",
    "  for element in list_of_elements:\n",
    "    if element not in new_list:\n",
    "      new_list.append(element)\n",
    "  return new_list\n",
    "\n",
    "\n",
    "if __name__ == \"__main__\":\n",
    "  list_of_elements = [1, 2, 3, 1, 2, 3, 4, 5, 1, 2]\n",
    "  new_list = remove_duplicates(list_of_elements)\n",
    "  print(f\"The new list without duplicates is: {new_list}\")\n"
   ]
  },
  {
   "attachments": {},
   "cell_type": "markdown",
   "metadata": {},
   "source": [
    "## 7. Write a program to calculate the factorial of a given number."
   ]
  },
  {
   "cell_type": "code",
   "execution_count": 9,
   "metadata": {},
   "outputs": [
    {
     "name": "stdout",
     "output_type": "stream",
     "text": [
      "The factorial of 5 is 120\n"
     ]
    }
   ],
   "source": [
    "def factorial(number):\n",
    "  if number == 0:\n",
    "    return 1\n",
    "  else:\n",
    "    return number * factorial(number - 1)\n",
    "\n",
    "\n",
    "if __name__ == \"__main__\":\n",
    "  number = 5\n",
    "  factorial_of_number = factorial(number)\n",
    "  print(f\"The factorial of {number} is {factorial_of_number}\")\n"
   ]
  },
  {
   "attachments": {},
   "cell_type": "markdown",
   "metadata": {},
   "source": [
    "## 8. Implement a function to check if a given number is prime."
   ]
  },
  {
   "cell_type": "code",
   "execution_count": 10,
   "metadata": {},
   "outputs": [
    {
     "name": "stdout",
     "output_type": "stream",
     "text": [
      "The number 11 is prime: True\n"
     ]
    }
   ],
   "source": [
    "def is_prime(number):\n",
    "  if number <= 1:\n",
    "    return False\n",
    "  for i in range(2, int(number ** 0.5) + 1):\n",
    "    if number % i == 0:\n",
    "      return False\n",
    "  return True\n",
    "\n",
    "\n",
    "if __name__ == \"__main__\":\n",
    "  number = 11\n",
    "  is_prime_number = is_prime(number)\n",
    "  print(f\"The number {number} is prime: {is_prime_number}\")\n"
   ]
  },
  {
   "attachments": {},
   "cell_type": "markdown",
   "metadata": {},
   "source": [
    "## 9. Write a Python program to sort a list of integers in ascending order."
   ]
  },
  {
   "cell_type": "code",
   "execution_count": 11,
   "metadata": {},
   "outputs": [
    {
     "name": "stdout",
     "output_type": "stream",
     "text": [
      "The sorted list is: [1, 2, 3, 4, 5, 6, 7, 8, 9, 10]\n"
     ]
    }
   ],
   "source": [
    "def sort_list(list_of_numbers):\n",
    "  for i in range(len(list_of_numbers)):\n",
    "    for j in range(i + 1, len(list_of_numbers)):\n",
    "      if list_of_numbers[i] > list_of_numbers[j]:\n",
    "        list_of_numbers[i], list_of_numbers[j] = list_of_numbers[j], list_of_numbers[i]\n",
    "  return list_of_numbers\n",
    "\n",
    "\n",
    "if __name__ == \"__main__\":\n",
    "  list_of_numbers = [10, 4, 2, 9, 7, 5, 1, 3, 6, 8]\n",
    "  sorted_list = sort_list(list_of_numbers)\n",
    "  print(f\"The sorted list is: {sorted_list}\")\n"
   ]
  },
  {
   "attachments": {},
   "cell_type": "markdown",
   "metadata": {},
   "source": [
    "## 10. Implement a function to find the sum of all numbers in a list."
   ]
  },
  {
   "cell_type": "code",
   "execution_count": 12,
   "metadata": {},
   "outputs": [
    {
     "name": "stdout",
     "output_type": "stream",
     "text": [
      "The sum of all numbers in the list is 55\n"
     ]
    }
   ],
   "source": [
    "def sum_of_list(list_of_numbers):\n",
    "  sum_of_numbers = 0\n",
    "  for number in list_of_numbers:\n",
    "    sum_of_numbers += number\n",
    "  return sum_of_numbers\n",
    "\n",
    "\n",
    "if __name__ == \"__main__\":\n",
    "  list_of_numbers = [10, 4, 2, 9, 7, 5, 1, 3, 6, 8]\n",
    "  sum_of_numbers = sum_of_list(list_of_numbers)\n",
    "  print(f\"The sum of all numbers in the list is {sum_of_numbers}\")\n"
   ]
  },
  {
   "attachments": {},
   "cell_type": "markdown",
   "metadata": {},
   "source": [
    "## 11. Write a program to find the common elements between two lists."
   ]
  },
  {
   "cell_type": "code",
   "execution_count": 13,
   "metadata": {},
   "outputs": [
    {
     "name": "stdout",
     "output_type": "stream",
     "text": [
      "The common elements between the two lists are: [2, 3, 5]\n"
     ]
    }
   ],
   "source": [
    "def find_common_elements(list_1, list_2):\n",
    "  common_elements = []\n",
    "  for element in list_1:\n",
    "    if element in list_2:\n",
    "      common_elements.append(element)\n",
    "  return common_elements\n",
    "\n",
    "\n",
    "if __name__ == \"__main__\":\n",
    "  list_1 = [1, 2, 3, 4, 5]\n",
    "  list_2 = [2, 3, 5, 6, 7]\n",
    "  common_elements = find_common_elements(list_1, list_2)\n",
    "  print(f\"The common elements between the two lists are: {common_elements}\")\n"
   ]
  },
  {
   "attachments": {},
   "cell_type": "markdown",
   "metadata": {},
   "source": [
    "## 12. Implement a function to check if a given string is an anagram of another string."
   ]
  },
  {
   "cell_type": "code",
   "execution_count": 14,
   "metadata": {},
   "outputs": [
    {
     "name": "stdout",
     "output_type": "stream",
     "text": [
      "The two strings racecar and carrace are anagrams: True\n"
     ]
    }
   ],
   "source": [
    "def is_anagram(string_1, string_2):\n",
    "  if len(string_1) != len(string_2):\n",
    "    return False\n",
    "  sorted_string_1 = sorted(string_1)\n",
    "  sorted_string_2 = sorted(string_2)\n",
    "  for i in range(len(string_1)):\n",
    "    if sorted_string_1[i] != sorted_string_2[i]:\n",
    "      return False\n",
    "  return True\n",
    "\n",
    "\n",
    "if __name__ == \"__main__\":\n",
    "  string_1 = \"racecar\"\n",
    "  string_2 = \"carrace\"\n",
    "  is_anagram_of = is_anagram(string_1, string_2)\n",
    "  print(f\"The two strings {string_1} and {string_2} are anagrams: {is_anagram_of}\")\n"
   ]
  },
  {
   "attachments": {},
   "cell_type": "markdown",
   "metadata": {},
   "source": [
    "## 13. Write a Python program to generate all permutations of a given string."
   ]
  },
  {
   "cell_type": "code",
   "execution_count": 15,
   "metadata": {},
   "outputs": [
    {
     "name": "stdout",
     "output_type": "stream",
     "text": [
      "The permutations of the string abc are: ['abc', 'acb', 'bac', 'bca', 'cab', 'cba']\n"
     ]
    }
   ],
   "source": [
    "def generate_permutations(string):\n",
    "  if len(string) == 0:\n",
    "    return [\"\"]\n",
    "  else:\n",
    "    permutations = []\n",
    "    for i in range(len(string)):\n",
    "      first_letter = string[i]\n",
    "      remaining_string = string[:i] + string[i + 1:]\n",
    "      permutations_of_remaining_string = generate_permutations(remaining_string)\n",
    "      for permutation in permutations_of_remaining_string:\n",
    "        permutations.append(first_letter + permutation)\n",
    "    return permutations\n",
    "\n",
    "\n",
    "if __name__ == \"__main__\":\n",
    "  string = \"abc\"\n",
    "  permutations = generate_permutations(string)\n",
    "  print(f\"The permutations of the string {string} are: {permutations}\")\n"
   ]
  },
  {
   "attachments": {},
   "cell_type": "markdown",
   "metadata": {},
   "source": [
    "## 14. Implement a function to calculate the Fibonacci sequence up to a given number of terms."
   ]
  },
  {
   "cell_type": "code",
   "execution_count": 16,
   "metadata": {},
   "outputs": [
    {
     "name": "stdout",
     "output_type": "stream",
     "text": [
      "The Fibonacci numbers up to 10 terms are: [0, 1, 1, 2, 3, 5, 8, 13, 21, 34]\n"
     ]
    }
   ],
   "source": [
    "def fibonacci(number_of_terms):\n",
    "  fibonacci_numbers = []\n",
    "  for i in range(number_of_terms):\n",
    "    if i == 0 or i == 1:\n",
    "      fibonacci_numbers.append(i)\n",
    "    else:\n",
    "      fibonacci_numbers.append(fibonacci_numbers[i - 1] + fibonacci_numbers[i - 2])\n",
    "  return fibonacci_numbers\n",
    "\n",
    "\n",
    "if __name__ == \"__main__\":\n",
    "  number_of_terms = 10\n",
    "  fibonacci_numbers = fibonacci(number_of_terms)\n",
    "  print(f\"The Fibonacci numbers up to {number_of_terms} terms are: {fibonacci_numbers}\")\n"
   ]
  },
  {
   "attachments": {},
   "cell_type": "markdown",
   "metadata": {},
   "source": [
    "## 15. Write a program to find the median of a list of numbers."
   ]
  },
  {
   "cell_type": "code",
   "execution_count": 17,
   "metadata": {},
   "outputs": [
    {
     "name": "stdout",
     "output_type": "stream",
     "text": [
      "The median of the list of numbers is: 3\n"
     ]
    }
   ],
   "source": [
    "def find_median(list_of_numbers):\n",
    "  list_of_numbers.sort()\n",
    "  if len(list_of_numbers) % 2 == 0:\n",
    "    median = (list_of_numbers[len(list_of_numbers) // 2] +\n",
    "              list_of_numbers[len(list_of_numbers) // 2 - 1]) / 2\n",
    "  else:\n",
    "    median = list_of_numbers[len(list_of_numbers) // 2]\n",
    "  return median\n",
    "\n",
    "\n",
    "if __name__ == \"__main__\":\n",
    "  list_of_numbers = [1, 2, 3, 4, 5]\n",
    "  median_of_numbers = find_median(list_of_numbers)\n",
    "  print(f\"The median of the list of numbers is: {median_of_numbers}\")\n"
   ]
  },
  {
   "attachments": {},
   "cell_type": "markdown",
   "metadata": {},
   "source": [
    "## 16. Implement a function to check if a given list is sorted in non-decreasing order."
   ]
  },
  {
   "cell_type": "code",
   "execution_count": 18,
   "metadata": {},
   "outputs": [
    {
     "name": "stdout",
     "output_type": "stream",
     "text": [
      "The list of numbers is sorted in non-decreasing order: True\n"
     ]
    }
   ],
   "source": [
    "def is_sorted_in_non_decreasing_order(list_of_numbers):\n",
    "  for i in range(len(list_of_numbers) - 1):\n",
    "    if list_of_numbers[i] > list_of_numbers[i + 1]:\n",
    "      return False\n",
    "  return True\n",
    "\n",
    "\n",
    "if __name__ == \"__main__\":\n",
    "  list_of_numbers = [1, 2, 3, 4, 5]\n",
    "  is_sorted_in_non_decreasing_order = is_sorted_in_non_decreasing_order(list_of_numbers)\n",
    "  print(f\"The list of numbers is sorted in non-decreasing order: {is_sorted_in_non_decreasing_order}\")\n"
   ]
  },
  {
   "attachments": {},
   "cell_type": "markdown",
   "metadata": {},
   "source": [
    "## 17. Write a Python program to find the intersection of two lists."
   ]
  },
  {
   "cell_type": "code",
   "execution_count": 19,
   "metadata": {},
   "outputs": [
    {
     "name": "stdout",
     "output_type": "stream",
     "text": [
      "The intersection of the two lists is: [2, 3, 5]\n"
     ]
    }
   ],
   "source": [
    "def find_intersection(list_1, list_2):\n",
    "  intersection = []\n",
    "  for element in list_1:\n",
    "    if element in list_2:\n",
    "      intersection.append(element)\n",
    "  return intersection\n",
    "\n",
    "\n",
    "if __name__ == \"__main__\":\n",
    "  list_1 = [1, 2, 3, 4, 5]\n",
    "  list_2 = [2, 3, 5, 6, 7]\n",
    "  intersection_of_lists = find_intersection(list_1, list_2)\n",
    "  print(f\"The intersection of the two lists is: {intersection_of_lists}\")\n"
   ]
  },
  {
   "attachments": {},
   "cell_type": "markdown",
   "metadata": {},
   "source": [
    "## 18. Implement a function to find the maximum subarray sum in a given list."
   ]
  },
  {
   "cell_type": "code",
   "execution_count": 20,
   "metadata": {},
   "outputs": [
    {
     "name": "stdout",
     "output_type": "stream",
     "text": [
      "The maximum subarray sum is: 23\n"
     ]
    }
   ],
   "source": [
    "def find_maximum_subarray_sum(list_of_numbers):\n",
    "  max_ending_here = 0\n",
    "  max_so_far = float(\"-inf\")\n",
    "  for number in list_of_numbers:\n",
    "    max_ending_here = max(max_ending_here + number, number)\n",
    "    if max_so_far < max_ending_here:\n",
    "      max_so_far = max_ending_here\n",
    "  return max_so_far\n",
    "\n",
    "\n",
    "if __name__ == \"__main__\":\n",
    "  list_of_numbers = [1, 2, 3, -4, 5, 6, -7, 8, 9]\n",
    "  maximum_subarray_sum = find_maximum_subarray_sum(list_of_numbers)\n",
    "  print(f\"The maximum subarray sum is: {maximum_subarray_sum}\")\n"
   ]
  },
  {
   "attachments": {},
   "cell_type": "markdown",
   "metadata": {},
   "source": [
    "## 19. Write a program to remove all vowels from a given string."
   ]
  },
  {
   "cell_type": "code",
   "execution_count": 21,
   "metadata": {},
   "outputs": [
    {
     "name": "stdout",
     "output_type": "stream",
     "text": [
      "The string without any vowels is: hll wrld\n"
     ]
    }
   ],
   "source": [
    "def remove_vowels(string):\n",
    "  vowels = \"aeiouAEIOU\"\n",
    "  new_string = \"\"\n",
    "  for character in string:\n",
    "    if character not in vowels:\n",
    "      new_string += character\n",
    "  return new_string\n",
    "\n",
    "\n",
    "if __name__ == \"__main__\":\n",
    "  string = \"hello world\"\n",
    "  new_string = remove_vowels(string)\n",
    "  print(f\"The string without any vowels is: {new_string}\")\n"
   ]
  },
  {
   "attachments": {},
   "cell_type": "markdown",
   "metadata": {},
   "source": [
    "## 20. Implement a function to reverse the order of words in a given sentence."
   ]
  },
  {
   "cell_type": "code",
   "execution_count": 22,
   "metadata": {},
   "outputs": [
    {
     "name": "stdout",
     "output_type": "stream",
     "text": [
      "The reversed sentence is: world hello\n"
     ]
    }
   ],
   "source": [
    "def reverse_words(sentence):\n",
    "  words = sentence.split(\" \")\n",
    "  reversed_words = []\n",
    "  for word in words[::-1]:\n",
    "    reversed_words.append(word)\n",
    "  reversed_sentence = \" \".join(reversed_words)\n",
    "  return reversed_sentence\n",
    "\n",
    "\n",
    "if __name__ == \"__main__\":\n",
    "  sentence = \"hello world\"\n",
    "  reversed_sentence = reverse_words(sentence)\n",
    "  print(f\"The reversed sentence is: {reversed_sentence}\")\n"
   ]
  },
  {
   "attachments": {},
   "cell_type": "markdown",
   "metadata": {},
   "source": [
    "## 21. Write a Python program to check if two strings are anagrams of each other."
   ]
  },
  {
   "cell_type": "code",
   "execution_count": 23,
   "metadata": {},
   "outputs": [
    {
     "name": "stdout",
     "output_type": "stream",
     "text": [
      "The two strings racecar and carrace are anagrams: True\n"
     ]
    }
   ],
   "source": [
    "def is_anagram(string_1, string_2):\n",
    "  if len(string_1) != len(string_2):\n",
    "    return False\n",
    "  sorted_string_1 = sorted(string_1)\n",
    "  sorted_string_2 = sorted(string_2)\n",
    "  for i in range(len(string_1)):\n",
    "    if sorted_string_1[i] != sorted_string_2[i]:\n",
    "      return False\n",
    "  return True\n",
    "\n",
    "\n",
    "if __name__ == \"__main__\":\n",
    "  string_1 = \"racecar\"\n",
    "  string_2 = \"carrace\"\n",
    "  is_anagram_of = is_anagram(string_1, string_2)\n",
    "  print(f\"The two strings {string_1} and {string_2} are anagrams: {is_anagram_of}\")\n"
   ]
  },
  {
   "attachments": {},
   "cell_type": "markdown",
   "metadata": {},
   "source": [
    "## 22. Implement a function to find the first non-repeating character in a string."
   ]
  },
  {
   "cell_type": "code",
   "execution_count": 24,
   "metadata": {},
   "outputs": [
    {
     "name": "stdout",
     "output_type": "stream",
     "text": [
      "The first non-repeating character in the string hello world is: h\n"
     ]
    }
   ],
   "source": [
    "def find_first_non_repeating_character(string):\n",
    "  char_counts = {}\n",
    "  for character in string:\n",
    "    if character not in char_counts:\n",
    "      char_counts[character] = 0\n",
    "    char_counts[character] += 1\n",
    "  for character in string:\n",
    "    if char_counts[character] == 1:\n",
    "      return character\n",
    "  return None\n",
    "\n",
    "\n",
    "if __name__ == \"__main__\":\n",
    "  string = \"hello world\"\n",
    "  first_non_repeating_character = find_first_non_repeating_character(string)\n",
    "  print(f\"The first non-repeating character in the string {string} is: {first_non_repeating_character}\")\n"
   ]
  },
  {
   "attachments": {},
   "cell_type": "markdown",
   "metadata": {},
   "source": [
    "## 23. Write a program to find the prime factors of a given number."
   ]
  },
  {
   "cell_type": "code",
   "execution_count": 25,
   "metadata": {},
   "outputs": [
    {
     "name": "stdout",
     "output_type": "stream",
     "text": [
      "The prime factors of the number 12 are: [2, 2, 3]\n"
     ]
    }
   ],
   "source": [
    "def find_prime_factors(number):\n",
    "  prime_factors = []\n",
    "  for i in range(2, number + 1):\n",
    "    while number % i == 0:\n",
    "      prime_factors.append(i)\n",
    "      number = number // i\n",
    "  return prime_factors\n",
    "\n",
    "\n",
    "if __name__ == \"__main__\":\n",
    "  number = 12\n",
    "  prime_factors_of_number = find_prime_factors(number)\n",
    "  print(f\"The prime factors of the number {number} are: {prime_factors_of_number}\")\n"
   ]
  },
  {
   "attachments": {},
   "cell_type": "markdown",
   "metadata": {},
   "source": [
    "## 24. Implement a function to check if a given number is a power of two."
   ]
  },
  {
   "cell_type": "code",
   "execution_count": 26,
   "metadata": {},
   "outputs": [
    {
     "name": "stdout",
     "output_type": "stream",
     "text": [
      "The number 16 is a power of two: True\n"
     ]
    }
   ],
   "source": [
    "def is_power_of_two(number):\n",
    "  if number <= 0:\n",
    "    return False\n",
    "  while number % 2 == 0:\n",
    "    number = number // 2\n",
    "  return number == 1\n",
    "\n",
    "\n",
    "if __name__ == \"__main__\":\n",
    "  number = 16\n",
    "  is_power_of_two_of_number = is_power_of_two(number)\n",
    "  print(f\"The number {number} is a power of two: {is_power_of_two_of_number}\")\n"
   ]
  },
  {
   "attachments": {},
   "cell_type": "markdown",
   "metadata": {},
   "source": [
    "## 25. Write a Python program to merge two sorted lists into a single sorted list."
   ]
  },
  {
   "cell_type": "code",
   "execution_count": 27,
   "metadata": {},
   "outputs": [
    {
     "name": "stdout",
     "output_type": "stream",
     "text": [
      "The merged list is: [1, 2, 3, 4, 5, 6, 7, 8, 9, 10]\n"
     ]
    }
   ],
   "source": [
    "def merge_sorted_lists(list_1, list_2):\n",
    "  merged_list = []\n",
    "  i = 0\n",
    "  j = 0\n",
    "  while i < len(list_1) and j < len(list_2):\n",
    "    if list_1[i] <= list_2[j]:\n",
    "      merged_list.append(list_1[i])\n",
    "      i += 1\n",
    "    else:\n",
    "      merged_list.append(list_2[j])\n",
    "      j += 1\n",
    "  merged_list.extend(list_1[i:])\n",
    "  merged_list.extend(list_2[j:])\n",
    "  return merged_list\n",
    "\n",
    "\n",
    "if __name__ == \"__main__\":\n",
    "  list_1 = [1, 3, 5, 7, 9]\n",
    "  list_2 = [2, 4, 6, 8, 10]\n",
    "  merged_list = merge_sorted_lists(list_1, list_2)\n",
    "  print(f\"The merged list is: {merged_list}\")\n"
   ]
  },
  {
   "attachments": {},
   "cell_type": "markdown",
   "metadata": {},
   "source": [
    "## 26. Implement a function to find the mode of a list of numbers."
   ]
  },
  {
   "cell_type": "code",
   "execution_count": 28,
   "metadata": {},
   "outputs": [
    {
     "name": "stdout",
     "output_type": "stream",
     "text": [
      "The mode of the list of numbers is: 3\n"
     ]
    }
   ],
   "source": [
    "def find_mode(list_of_numbers):\n",
    "  mode_count = 0\n",
    "  mode = list_of_numbers[0]\n",
    "  for number in list_of_numbers:\n",
    "    count = list_of_numbers.count(number)\n",
    "    if count > mode_count:\n",
    "      mode_count = count\n",
    "      mode = number\n",
    "  return mode\n",
    "\n",
    "\n",
    "if __name__ == \"__main__\":\n",
    "  list_of_numbers = [1, 2, 3, 3, 3, 4, 5, 5, 5, 6]\n",
    "  mode_of_numbers = find_mode(list_of_numbers)\n",
    "  print(f\"The mode of the list of numbers is: {mode_of_numbers}\")\n"
   ]
  },
  {
   "attachments": {},
   "cell_type": "markdown",
   "metadata": {},
   "source": [
    "## 27. Write a program to find the greatest common divisor (GCD) of two numbers."
   ]
  },
  {
   "cell_type": "code",
   "execution_count": 50,
   "metadata": {},
   "outputs": [
    {
     "name": "stdout",
     "output_type": "stream",
     "text": [
      "The GCD of the two numbers is: 6\n"
     ]
    }
   ],
   "source": [
    "def find_gcd(number_1, number_2):\n",
    "  if number_1 < number_2:\n",
    "    temp = number_1\n",
    "    number_1 = number_2\n",
    "    number_2 = temp\n",
    "\n",
    "  while number_2 != 0:\n",
    "    temp = number_1 % number_2\n",
    "    number_1 = number_2\n",
    "    number_2 = temp\n",
    "  return number_1\n",
    "\n",
    "\n",
    "if __name__ == \"__main__\":\n",
    "  number_1 = 12\n",
    "  number_2 = 18\n",
    "  gcd_of_numbers = find_gcd(number_1, number_2)\n",
    "  print(f\"The GCD of the two numbers is: {gcd_of_numbers}\")\n"
   ]
  },
  {
   "attachments": {},
   "cell_type": "markdown",
   "metadata": {},
   "source": [
    "## 28. Implement a function to calculate the square root of a given number."
   ]
  },
  {
   "cell_type": "code",
   "execution_count": 30,
   "metadata": {},
   "outputs": [
    {
     "name": "stdout",
     "output_type": "stream",
     "text": [
      "The square root of the number 16 is: 4\n"
     ]
    }
   ],
   "source": [
    "def calculate_square_root(number):\n",
    "  low = 0\n",
    "  high = number\n",
    "  mid = (low + high) // 2\n",
    "  while low <= high:\n",
    "    if mid * mid == number:\n",
    "      return mid\n",
    "    elif mid * mid < number:\n",
    "      low = mid + 1\n",
    "    else:\n",
    "      high = mid - 1\n",
    "    mid = (low + high) // 2\n",
    "  return mid\n",
    "\n",
    "\n",
    "if __name__ == \"__main__\":\n",
    "  number = 16\n",
    "  square_root_of_number = calculate_square_root(number)\n",
    "  print(f\"The square root of the number {number} is: {square_root_of_number}\")\n"
   ]
  },
  {
   "attachments": {},
   "cell_type": "markdown",
   "metadata": {},
   "source": [
    "## 29. Write a Python program to check if a given string is a valid palindrome ignoring non-alphanumeric characters."
   ]
  },
  {
   "cell_type": "code",
   "execution_count": 31,
   "metadata": {},
   "outputs": [
    {
     "name": "stdout",
     "output_type": "stream",
     "text": [
      "The string A man, a plan, a canal: Panama is a palindrome: False\n"
     ]
    }
   ],
   "source": [
    "def is_palindrome(string):\n",
    "  new_string = \"\"\n",
    "  for character in string:\n",
    "    if character.isalnum():\n",
    "      new_string += character\n",
    "  reversed_string = new_string[::-1]\n",
    "  return new_string == reversed_string\n",
    "\n",
    "\n",
    "if __name__ == \"__main__\":\n",
    "  string = \"A man, a plan, a canal: Panama\"\n",
    "  is_palindrome_of_string = is_palindrome(string)\n",
    "  print(f\"The string {string} is a palindrome: {is_palindrome_of_string}\")\n"
   ]
  },
  {
   "attachments": {},
   "cell_type": "markdown",
   "metadata": {},
   "source": [
    "## 30. Implement a function to find the minimum element in a rotated sorted list."
   ]
  },
  {
   "cell_type": "code",
   "execution_count": 32,
   "metadata": {},
   "outputs": [
    {
     "name": "stdout",
     "output_type": "stream",
     "text": [
      "The minimum element in the list of numbers is: 1\n"
     ]
    }
   ],
   "source": [
    "def find_minimum_element(list_of_numbers):\n",
    "  low = 0\n",
    "  high = len(list_of_numbers) - 1\n",
    "  while low <= high:\n",
    "    mid = (low + high) // 2\n",
    "    if list_of_numbers[mid] < list_of_numbers[0]:\n",
    "      return list_of_numbers[mid]\n",
    "    elif list_of_numbers[mid] == list_of_numbers[0]:\n",
    "      high -= 1\n",
    "    else:\n",
    "      low = mid + 1\n",
    "  return list_of_numbers[0]\n",
    "\n",
    "\n",
    "if __name__ == \"__main__\":\n",
    "  list_of_numbers = [3, 4, 5, 1, 2]\n",
    "  minimum_element_in_list = find_minimum_element(list_of_numbers)\n",
    "  print(f\"The minimum element in the list of numbers is: {minimum_element_in_list}\")\n"
   ]
  },
  {
   "attachments": {},
   "cell_type": "markdown",
   "metadata": {},
   "source": [
    "## 31. Write a program to find the sum of all even numbers in a list."
   ]
  },
  {
   "cell_type": "code",
   "execution_count": 33,
   "metadata": {},
   "outputs": [
    {
     "name": "stdout",
     "output_type": "stream",
     "text": [
      "The sum of all even numbers in the list of numbers is: 30\n"
     ]
    }
   ],
   "source": [
    "def find_sum_of_even_numbers(list_of_numbers):\n",
    "  sum_of_even_numbers = 0\n",
    "  for number in list_of_numbers:\n",
    "    if number % 2 == 0:\n",
    "      sum_of_even_numbers += number\n",
    "  return sum_of_even_numbers\n",
    "\n",
    "\n",
    "if __name__ == \"__main__\":\n",
    "  list_of_numbers = [1, 2, 3, 4, 5, 6, 7, 8, 9, 10]\n",
    "  sum_of_even_numbers_in_list = find_sum_of_even_numbers(list_of_numbers)\n",
    "  print(f\"The sum of all even numbers in the list of numbers is: {sum_of_even_numbers_in_list}\")\n"
   ]
  },
  {
   "attachments": {},
   "cell_type": "markdown",
   "metadata": {},
   "source": [
    "## 32. Implement a function to calculate the power of a number using recursion."
   ]
  },
  {
   "cell_type": "code",
   "execution_count": 34,
   "metadata": {},
   "outputs": [
    {
     "name": "stdout",
     "output_type": "stream",
     "text": [
      "The power of the number 2 to the power of 3 is: 8\n"
     ]
    }
   ],
   "source": [
    "def calculate_power(number, power):\n",
    "  if power == 0:\n",
    "    return 1\n",
    "  else:\n",
    "    return number * calculate_power(number, power - 1)\n",
    "\n",
    "\n",
    "if __name__ == \"__main__\":\n",
    "  number = 2\n",
    "  power = 3\n",
    "  power_of_number = calculate_power(number, power)\n",
    "  print(f\"The power of the number {number} to the power of {power} is: {power_of_number}\")\n"
   ]
  },
  {
   "attachments": {},
   "cell_type": "markdown",
   "metadata": {},
   "source": [
    "## 33. Write a Python program to remove duplicates from a list while preserving the order."
   ]
  },
  {
   "cell_type": "code",
   "execution_count": 35,
   "metadata": {},
   "outputs": [
    {
     "name": "stdout",
     "output_type": "stream",
     "text": [
      "The list without duplicates is: [1, 2, 3, 4, 5, 6]\n"
     ]
    }
   ],
   "source": [
    "def remove_duplicates_from_list(list_of_numbers):\n",
    "  seen = set()\n",
    "  new_list = []\n",
    "  for number in list_of_numbers:\n",
    "    if number not in seen:\n",
    "      seen.add(number)\n",
    "      new_list.append(number)\n",
    "  return new_list\n",
    "\n",
    "\n",
    "if __name__ == \"__main__\":\n",
    "  list_of_numbers = [1, 2, 3, 2, 1, 4, 5, 6, 3]\n",
    "  new_list_without_duplicates = remove_duplicates_from_list(list_of_numbers)\n",
    "  print(f\"The list without duplicates is: {new_list_without_duplicates}\")\n"
   ]
  },
  {
   "attachments": {},
   "cell_type": "markdown",
   "metadata": {},
   "source": [
    "## 34. Implement a function to find the longest common prefix among a list of strings."
   ]
  },
  {
   "cell_type": "code",
   "execution_count": 36,
   "metadata": {},
   "outputs": [
    {
     "name": "stdout",
     "output_type": "stream",
     "text": [
      "The longest common prefix is: hello\n"
     ]
    }
   ],
   "source": [
    "def find_longest_common_prefix(list_of_strings):\n",
    "  if not list_of_strings:\n",
    "    return \"\"\n",
    "  else:\n",
    "    prefix = list_of_strings[0]\n",
    "    for string in list_of_strings[1:]:\n",
    "      while not string.startswith(prefix):\n",
    "        prefix = prefix[:-1]\n",
    "      if not prefix:\n",
    "        return \"\"\n",
    "    else:\n",
    "      return prefix\n",
    "\n",
    "\n",
    "if __name__ == \"__main__\":\n",
    "  list_of_strings = [\"hello\", \"helloworld\", \"hellothere\"]\n",
    "  longest_common_prefix = find_longest_common_prefix(list_of_strings)\n",
    "  print(f\"The longest common prefix is: {longest_common_prefix}\")\n"
   ]
  },
  {
   "attachments": {},
   "cell_type": "markdown",
   "metadata": {},
   "source": [
    "## 35. Write a program to check if a given number is a perfect square."
   ]
  },
  {
   "cell_type": "code",
   "execution_count": 37,
   "metadata": {},
   "outputs": [
    {
     "name": "stdout",
     "output_type": "stream",
     "text": [
      "The number 16 is a perfect square: True\n"
     ]
    }
   ],
   "source": [
    "import math\n",
    "\n",
    "def is_perfect_square(number):\n",
    "  if number < 0:\n",
    "    return False\n",
    "  else:\n",
    "    root = math.sqrt(number)\n",
    "    return root == int(root)\n",
    "\n",
    "\n",
    "if __name__ == \"__main__\":\n",
    "  number = 16\n",
    "  is_perfect_square_of_number = is_perfect_square(number)\n",
    "  print(f\"The number {number} is a perfect square: {is_perfect_square_of_number}\")\n"
   ]
  },
  {
   "attachments": {},
   "cell_type": "markdown",
   "metadata": {},
   "source": [
    "## 36. Implement a function to calculate the product of all elements in a list."
   ]
  },
  {
   "cell_type": "code",
   "execution_count": 38,
   "metadata": {},
   "outputs": [
    {
     "name": "stdout",
     "output_type": "stream",
     "text": [
      "The product of all elements in the list of numbers is: 120\n"
     ]
    }
   ],
   "source": [
    "def calculate_product_of_all_elements_in_list(list_of_numbers):\n",
    "  product = 1\n",
    "  for number in list_of_numbers:\n",
    "    product *= number\n",
    "  return product\n",
    "\n",
    "\n",
    "if __name__ == \"__main__\":\n",
    "  list_of_numbers = [1, 2, 3, 4, 5]\n",
    "  product_of_all_elements_in_list = calculate_product_of_all_elements_in_list(list_of_numbers)\n",
    "  print(f\"The product of all elements in the list of numbers is: {product_of_all_elements_in_list}\")\n"
   ]
  },
  {
   "attachments": {},
   "cell_type": "markdown",
   "metadata": {},
   "source": [
    "## 37. Write a Python program to reverse the order of words in a sentence while preserving the word order."
   ]
  },
  {
   "cell_type": "code",
   "execution_count": 39,
   "metadata": {},
   "outputs": [
    {
     "name": "stdout",
     "output_type": "stream",
     "text": [
      "The reversed sentence is: sentence. a is This\n"
     ]
    }
   ],
   "source": [
    "def reverse_order_of_words_in_sentence(sentence):\n",
    "  words = sentence.split(\" \")\n",
    "  reversed_words = []\n",
    "  for word in words[::-1]:\n",
    "    reversed_words.append(word)\n",
    "  reversed_sentence = \" \".join(reversed_words)\n",
    "  return reversed_sentence\n",
    "\n",
    "\n",
    "if __name__ == \"__main__\":\n",
    "  sentence = \"This is a sentence.\"\n",
    "  reversed_sentence = reverse_order_of_words_in_sentence(sentence)\n",
    "  print(f\"The reversed sentence is: {reversed_sentence}\")\n"
   ]
  },
  {
   "attachments": {},
   "cell_type": "markdown",
   "metadata": {},
   "source": [
    "## 38. Implement a function to find the missing number in a given list of consecutive numbers."
   ]
  },
  {
   "cell_type": "code",
   "execution_count": 40,
   "metadata": {},
   "outputs": [
    {
     "name": "stdout",
     "output_type": "stream",
     "text": [
      "The missing number in the list of numbers is: 10\n"
     ]
    }
   ],
   "source": [
    "def find_missing_number(list_of_numbers):\n",
    "  first_number = list_of_numbers[0]\n",
    "  last_number = list_of_numbers[-1]\n",
    "  expected_sum = (first_number + last_number) * (first_number + last_number + 1) // 2\n",
    "  actual_sum = sum(list_of_numbers)\n",
    "  missing_number = expected_sum - actual_sum\n",
    "  return missing_number\n",
    "\n",
    "\n",
    "if __name__ == \"__main__\":\n",
    "  list_of_numbers = [1, 2, 3, 5]\n",
    "  missing_number = find_missing_number(list_of_numbers)\n",
    "  print(f\"The missing number in the list of numbers is: {missing_number}\")\n"
   ]
  },
  {
   "attachments": {},
   "cell_type": "markdown",
   "metadata": {},
   "source": [
    "## 39. Write a program to find the sum of digits of a given number."
   ]
  },
  {
   "cell_type": "code",
   "execution_count": 41,
   "metadata": {},
   "outputs": [
    {
     "name": "stdout",
     "output_type": "stream",
     "text": [
      "The sum of digits of the number 1234 is: 10\n"
     ]
    }
   ],
   "source": [
    "def find_sum_of_digits(number):\n",
    "  sum_of_digits = 0\n",
    "  while number:\n",
    "    digit = number % 10\n",
    "    sum_of_digits += digit\n",
    "    number //= 10\n",
    "  return sum_of_digits\n",
    "\n",
    "\n",
    "if __name__ == \"__main__\":\n",
    "  number = 1234\n",
    "  sum_of_digits_of_number = find_sum_of_digits(number)\n",
    "  print(f\"The sum of digits of the number {number} is: {sum_of_digits_of_number}\")\n"
   ]
  },
  {
   "attachments": {},
   "cell_type": "markdown",
   "metadata": {},
   "source": [
    "## 40. Implement a function to check if a given string is a valid palindrome considering case sensitivity."
   ]
  },
  {
   "cell_type": "code",
   "execution_count": 42,
   "metadata": {},
   "outputs": [
    {
     "name": "stdout",
     "output_type": "stream",
     "text": [
      "The sum of digits of the number 1234 is: 10\n"
     ]
    }
   ],
   "source": [
    "def find_sum_of_digits(number):\n",
    "  sum_of_digits = 0\n",
    "  while number:\n",
    "    digit = number % 10\n",
    "    sum_of_digits += digit\n",
    "    number //= 10\n",
    "  return sum_of_digits\n",
    "\n",
    "\n",
    "if __name__ == \"__main__\":\n",
    "  number = 1234\n",
    "  sum_of_digits_of_number = find_sum_of_digits(number)\n",
    "  print(f\"The sum of digits of the number {number} is: {sum_of_digits_of_number}\")\n"
   ]
  },
  {
   "attachments": {},
   "cell_type": "markdown",
   "metadata": {},
   "source": [
    "## 41. Write a Python program to find the smallest missing positive integer in a list."
   ]
  },
  {
   "cell_type": "code",
   "execution_count": 43,
   "metadata": {},
   "outputs": [
    {
     "name": "stdout",
     "output_type": "stream",
     "text": [
      "The smallest missing positive integer in the list of numbers is: 1\n"
     ]
    }
   ],
   "source": [
    "def find_smallest_missing_positive_integer(list_of_numbers):\n",
    "  smallest_missing_positive_integer = 1\n",
    "  for number in list_of_numbers:\n",
    "    if number <= 0:\n",
    "      continue\n",
    "    elif number <= smallest_missing_positive_integer:\n",
    "      smallest_missing_positive_integer = number + 1\n",
    "    else:\n",
    "      break\n",
    "  return smallest_missing_positive_integer\n",
    "\n",
    "\n",
    "if __name__ == \"__main__\":\n",
    "  list_of_numbers = [-1, 0, 2, 3, 5]\n",
    "  smallest_missing_positive_integer = find_smallest_missing_positive_integer(list_of_numbers)\n",
    "  print(f\"The smallest missing positive integer in the list of numbers is: {smallest_missing_positive_integer}\")\n"
   ]
  },
  {
   "attachments": {},
   "cell_type": "markdown",
   "metadata": {},
   "source": [
    "## 42. Implement a function to find the longest palindrome substring in a given string."
   ]
  },
  {
   "cell_type": "code",
   "execution_count": 44,
   "metadata": {},
   "outputs": [
    {
     "name": "stdout",
     "output_type": "stream",
     "text": [
      "The longest palindrome substring in the string madam is: madam\n"
     ]
    }
   ],
   "source": [
    "def find_longest_palindrome_substring(string):\n",
    "  longest_palindrome_substring = \"\"\n",
    "  for i in range(len(string)):\n",
    "    for j in range(i + 1, len(string) + 1):\n",
    "      if string[i:j] == string[j - 1::-1]:\n",
    "        if len(string[i:j]) > len(longest_palindrome_substring):\n",
    "          longest_palindrome_substring = string[i:j]\n",
    "  return longest_palindrome_substring\n",
    "\n",
    "\n",
    "if __name__ == \"__main__\":\n",
    "  string = \"madam\"\n",
    "  longest_palindrome_substring = find_longest_palindrome_substring(string)\n",
    "  print(f\"The longest palindrome substring in the string {string} is: {longest_palindrome_substring}\")\n"
   ]
  },
  {
   "attachments": {},
   "cell_type": "markdown",
   "metadata": {},
   "source": [
    "## 43. Write a program to find the number of occurrences of a given element in a list."
   ]
  },
  {
   "cell_type": "code",
   "execution_count": 45,
   "metadata": {},
   "outputs": [
    {
     "name": "stdout",
     "output_type": "stream",
     "text": [
      "The number of occurrences of the element 2 in the list of elements is: 3\n"
     ]
    }
   ],
   "source": [
    "def find_number_of_occurrences(list_of_elements, element):\n",
    "  number_of_occurrences = 0\n",
    "  for element_in_list in list_of_elements:\n",
    "    if element_in_list == element:\n",
    "      number_of_occurrences += 1\n",
    "  return number_of_occurrences\n",
    "\n",
    "\n",
    "if __name__ == \"__main__\":\n",
    "  list_of_elements = [1, 2, 3, 2, 1, 5, 2]\n",
    "  element = 2\n",
    "  number_of_occurrences_of_element = find_number_of_occurrences(list_of_elements, element)\n",
    "  print(f\"The number of occurrences of the element {element} in the list of elements is: {number_of_occurrences_of_element}\")\n"
   ]
  },
  {
   "attachments": {},
   "cell_type": "markdown",
   "metadata": {},
   "source": [
    "## 44. Implement a function to check if a given number is a perfect number."
   ]
  },
  {
   "cell_type": "code",
   "execution_count": 46,
   "metadata": {},
   "outputs": [
    {
     "name": "stdout",
     "output_type": "stream",
     "text": [
      "The number 6 is a perfect number: True\n"
     ]
    }
   ],
   "source": [
    "def is_perfect_number(number):\n",
    "  sum_of_divisors = 1\n",
    "  for divisor in range(2, int(number**0.5) + 1):\n",
    "    if number % divisor == 0:\n",
    "      sum_of_divisors += divisor + number // divisor\n",
    "  return sum_of_divisors == number\n",
    "\n",
    "\n",
    "if __name__ == \"__main__\":\n",
    "  number = 6\n",
    "  is_perfect_number_of_number = is_perfect_number(number)\n",
    "  print(f\"The number {number} is a perfect number: {is_perfect_number_of_number}\")\n"
   ]
  },
  {
   "attachments": {},
   "cell_type": "markdown",
   "metadata": {},
   "source": [
    "## 45. Write a Python program to remove all duplicates from a string."
   ]
  },
  {
   "cell_type": "code",
   "execution_count": 48,
   "metadata": {},
   "outputs": [
    {
     "name": "stdout",
     "output_type": "stream",
     "text": [
      "The string helloworld with all duplicates removed is: helowrd\n"
     ]
    }
   ],
   "source": [
    "def remove_duplicates_from_string(string):\n",
    "  seen = set()\n",
    "  new_string = \"\"\n",
    "  for character in string:\n",
    "    if character not in seen:\n",
    "      seen.add(character)\n",
    "      new_string += character\n",
    "  return new_string\n",
    "\n",
    "\n",
    "if __name__ == \"__main__\":\n",
    "  string = \"helloworld\"\n",
    "  new_string = remove_duplicates_from_string(string)\n",
    "  print(f\"The string {string} with all duplicates removed is: {new_string}\")\n"
   ]
  },
  {
   "attachments": {},
   "cell_type": "markdown",
   "metadata": {},
   "source": [
    "## 46. Implement a function to find the first missing positive"
   ]
  },
  {
   "cell_type": "code",
   "execution_count": 49,
   "metadata": {},
   "outputs": [
    {
     "name": "stdout",
     "output_type": "stream",
     "text": [
      "The first missing positive integer in the list of numbers is: 2\n"
     ]
    }
   ],
   "source": [
    "def find_first_missing_positive_integer(list_of_numbers):\n",
    "  for index, number in enumerate(list_of_numbers):\n",
    "    if number <= 0 or number > len(list_of_numbers):\n",
    "      continue\n",
    "    else:\n",
    "      current_position = number - 1\n",
    "      if list_of_numbers[current_position] != number:\n",
    "        return number\n",
    "  return len(list_of_numbers) + 1\n",
    "\n",
    "\n",
    "if __name__ == \"__main__\":\n",
    "  list_of_numbers = [-1, 0, 2, 3, 5]\n",
    "  first_missing_positive_integer = find_first_missing_positive_integer(list_of_numbers)\n",
    "  print(f\"The first missing positive integer in the list of numbers is: {first_missing_positive_integer}\")\n"
   ]
  },
  {
   "attachments": {},
   "cell_type": "markdown",
   "metadata": {},
   "source": [
    "# Thank You!"
   ]
  },
  {
   "attachments": {},
   "cell_type": "markdown",
   "metadata": {},
   "source": [
    "## "
   ]
  }
 ],
 "metadata": {
  "kernelspec": {
   "display_name": "Python 3",
   "language": "python",
   "name": "python3"
  },
  "language_info": {
   "codemirror_mode": {
    "name": "ipython",
    "version": 3
   },
   "file_extension": ".py",
   "mimetype": "text/x-python",
   "name": "python",
   "nbconvert_exporter": "python",
   "pygments_lexer": "ipython3",
   "version": "3.11.2"
  },
  "orig_nbformat": 4
 },
 "nbformat": 4,
 "nbformat_minor": 2
}
