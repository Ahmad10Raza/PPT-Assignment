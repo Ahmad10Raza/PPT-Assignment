{
 "cells": [
  {
   "attachments": {},
   "cell_type": "markdown",
   "metadata": {},
   "source": [
    "# Assignment 08"
   ]
  },
  {
   "attachments": {},
   "cell_type": "markdown",
   "metadata": {},
   "source": [
    "## 💡 **Question 1**\n",
    "\n",
    "Given two strings s1 and s2, return *the lowest **ASCII** sum of deleted characters to make two strings equal*.\n",
    "\n",
    "**Example 1:**\n",
    "\n",
    "**Input:** s1 = \"sea\", s2 = \"eat\"\n",
    "\n",
    "**Output:** 231\n",
    "\n",
    "**Explanation:** Deleting \"s\" from \"sea\" adds the ASCII value of \"s\" (115) to the sum.\n",
    "\n",
    "Deleting \"t\" from \"eat\" adds 116 to the sum.\n",
    "\n",
    "At the end, both strings are equal, and 115 + 116 = 231 is the minimum sum possible to achieve this.\n"
   ]
  },
  {
   "cell_type": "code",
   "execution_count": 46,
   "metadata": {
    "vscode": {
     "languageId": "java"
    }
   },
   "outputs": [],
   "source": [
    "public static int minimumDeleteSum(String s1, String s2) {\n",
    "    return minimumDeleteSumHelper(s1, s2, 0, 0);\n",
    "}\n",
    "\n",
    "private static int minimumDeleteSumHelper(String s1, String s2, int i, int j) {\n",
    "    if (i == s1.length() && j == s2.length()) {\n",
    "        return 0;\n",
    "    }\n",
    "\n",
    "    if (i == s1.length()) {\n",
    "        int sum = 0;\n",
    "        for (; j < s2.length(); j++) {\n",
    "            sum += (int) s2.charAt(j);\n",
    "        }\n",
    "        return sum;\n",
    "    }\n",
    "\n",
    "    if (j == s2.length()) {\n",
    "        int sum = 0;\n",
    "        for (; i < s1.length(); i++) {\n",
    "            sum += (int) s1.charAt(i);\n",
    "        }\n",
    "        return sum;\n",
    "    }\n",
    "\n",
    "    if (s1.charAt(i) == s2.charAt(j)) {\n",
    "        return minimumDeleteSumHelper(s1, s2, i + 1, j + 1);\n",
    "    } else {\n",
    "        int deleteS1 = (int) s1.charAt(i) + minimumDeleteSumHelper(s1, s2, i + 1, j);\n",
    "        int deleteS2 = (int) s2.charAt(j) + minimumDeleteSumHelper(s1, s2, i, j + 1);\n",
    "        return Math.min(deleteS1, deleteS2);\n",
    "    }\n",
    "}"
   ]
  },
  {
   "cell_type": "code",
   "execution_count": 48,
   "metadata": {
    "vscode": {
     "languageId": "java"
    }
   },
   "outputs": [
    {
     "name": "stdout",
     "output_type": "stream",
     "text": [
      "Lowest ASCII Deletion Sum: 231\n"
     ]
    }
   ],
   "source": [
    "String s1 = \"sea\";\n",
    "String s2 = \"eat\";\n",
    "\n",
    "int minimumSum = minimumDeleteSum(s1, s2);\n",
    "\n",
    "System.out.println(\"Lowest ASCII Deletion Sum: \" + minimumSum);"
   ]
  },
  {
   "attachments": {},
   "cell_type": "markdown",
   "metadata": {},
   "source": [
    "## 💡 **Question 2**\n",
    "\n",
    "Given a string s containing only three types of characters: '(', ')' and '*', return true *if* s *is **valid***.\n",
    "\n",
    "The following rules define a **valid** string:\n",
    "\n",
    "- Any left parenthesis '(' must have a corresponding right parenthesis ')'.\n",
    "- Any right parenthesis ')' must have a corresponding left parenthesis '('.\n",
    "- Left parenthesis '(' must go before the corresponding right parenthesis ')'.\n",
    "- '*' could be treated as a single right parenthesis ')' or a single left parenthesis '(' or an empty string \"\".\n",
    "\n",
    "**Example 1:**\n",
    "\n",
    "**Input:** s = \"()\"\n",
    "\n",
    "**Output:**\n",
    "\n",
    "true\n"
   ]
  },
  {
   "cell_type": "code",
   "execution_count": 3,
   "metadata": {
    "vscode": {
     "languageId": "java"
    }
   },
   "outputs": [],
   "source": [
    "public static boolean checkValidString(String s) {\n",
    "    return isValid(s, 0, 0);\n",
    "}\n",
    "\n",
    "private static boolean isValid(String s, int index, int balance) {\n",
    "    if (index == s.length()) {\n",
    "        return balance == 0;\n",
    "    }\n",
    "\n",
    "    if (balance < 0) {\n",
    "        return false; // More ')' than '('\n",
    "    }\n",
    "\n",
    "    char currentChar = s.charAt(index);\n",
    "\n",
    "    if (currentChar == '(') {\n",
    "        return isValid(s, index + 1, balance + 1);\n",
    "    } else if (currentChar == ')') {\n",
    "        return isValid(s, index + 1, balance - 1);\n",
    "    } else if (currentChar == '*') {\n",
    "        // Try all possibilities: '*', '(', ')'\n",
    "        return isValid(s, index + 1, balance) ||\n",
    "                isValid(s, index + 1, balance + 1) ||\n",
    "                isValid(s, index + 1, balance - 1);\n",
    "    }\n",
    "\n",
    "    return false; // Invalid character\n",
    "}"
   ]
  },
  {
   "cell_type": "code",
   "execution_count": 4,
   "metadata": {
    "vscode": {
     "languageId": "java"
    }
   },
   "outputs": [
    {
     "name": "stdout",
     "output_type": "stream",
     "text": [
      "Is valid string: true\n"
     ]
    }
   ],
   "source": [
    "String s = \"()\";\n",
    "boolean isValidString = checkValidString(s);\n",
    "System.out.println(\"Is valid string: \" + isValidString);"
   ]
  },
  {
   "attachments": {},
   "cell_type": "markdown",
   "metadata": {},
   "source": [
    "## 💡 **Question 3**\n",
    "\n",
    "Given two strings word1 and word2, return *the minimum number of **steps** required to make* word1 *and* word2 *the same*.\n",
    "\n",
    "In one **step**, you can delete exactly one character in either string.\n",
    "\n",
    "**Example 1:**\n",
    "\n",
    "**Input:** word1 = \"sea\", word2 = \"eat\"\n",
    "\n",
    "**Output:** 2\n",
    "\n",
    "**Explanation:** You need one step to make \"sea\" to \"ea\" and another step to make \"eat\" to \"ea\".\n"
   ]
  },
  {
   "cell_type": "code",
   "execution_count": 5,
   "metadata": {
    "vscode": {
     "languageId": "java"
    }
   },
   "outputs": [],
   "source": [
    "public static int minDistance(String word1, String word2) {\n",
    "    return minSteps(word1, word2, word1.length(), word2.length());\n",
    "}\n",
    "\n",
    "private static int minSteps(String word1, String word2, int m, int n) {\n",
    "    if (m == 0) {\n",
    "        return n; \n",
    "    }\n",
    "\n",
    "    if (n == 0) {\n",
    "        return m;\n",
    "    }\n",
    "\n",
    "    if (word1.charAt(m - 1) == word2.charAt(n - 1)) {\n",
    "        return minSteps(word1, word2, m - 1, n - 1); \n",
    "    }\n",
    "\n",
    "    int deleteFromWord1 = minSteps(word1, word2, m - 1, n) + 1; \n",
    "    int deleteFromWord2 = minSteps(word1, word2, m, n - 1) + 1; \n",
    "\n",
    "    return Math.min(deleteFromWord1, deleteFromWord2);\n",
    "}\n"
   ]
  },
  {
   "cell_type": "code",
   "execution_count": 6,
   "metadata": {
    "vscode": {
     "languageId": "java"
    }
   },
   "outputs": [
    {
     "name": "stdout",
     "output_type": "stream",
     "text": [
      "Minimum steps: 2\n"
     ]
    }
   ],
   "source": [
    "String word1 = \"sea\";\n",
    "String word2 = \"eat\";\n",
    "int minSteps = minDistance(word1, word2);\n",
    "System.out.println(\"Minimum steps: \" + minSteps);"
   ]
  },
  {
   "attachments": {},
   "cell_type": "markdown",
   "metadata": {},
   "source": [
    "## 💡 **Question 4**\n",
    "\n",
    "You need to construct a binary tree from a string consisting of parenthesis and integers.\n",
    "\n",
    "The whole input represents a binary tree. It contains an integer followed by zero, one or two pairs of parenthesis. The integer represents the root's value and a pair of parenthesis contains a child binary tree with the same structure.\n",
    "You always start to construct the **left** child node of the parent first if it exists.\n",
    "\n",
    "**Input:** s = \"4(2(3)(1))(6(5))\"\n",
    "\n",
    "**Output:** [4,2,6,3,1,5]\n"
   ]
  },
  {
   "cell_type": "code",
   "execution_count": 10,
   "metadata": {
    "vscode": {
     "languageId": "java"
    }
   },
   "outputs": [],
   "source": [
    "class TreeNode {\n",
    "    int val;\n",
    "    TreeNode left;\n",
    "    TreeNode right;\n",
    "\n",
    "    TreeNode(int val) {\n",
    "        this.val = val;\n",
    "    }\n",
    "}\n",
    "\n",
    "public static TreeNode str2tree(String s) {\n",
    "    if (s == null || s.length() == 0) {\n",
    "        return null;\n",
    "    }\n",
    "\n",
    "    // Find the value of the root node\n",
    "    int endIndex = s.indexOf('(');\n",
    "    if (endIndex == -1) {\n",
    "        endIndex = s.length();\n",
    "    }\n",
    "    int rootVal = Integer.parseInt(s.substring(0, endIndex));\n",
    "    TreeNode root = new TreeNode(rootVal);\n",
    "\n",
    "    // Check if there are left and right subtrees\n",
    "    if (endIndex < s.length()) {\n",
    "        int count = 0;\n",
    "        int start = endIndex;\n",
    "        for (int i = start; i < s.length(); i++) {\n",
    "            if (s.charAt(i) == '(') {\n",
    "                count++;\n",
    "            } else if (s.charAt(i) == ')') {\n",
    "                count--;\n",
    "            }\n",
    "\n",
    "            if (count == 0) {\n",
    "                if (start == endIndex) {\n",
    "                    // Left subtree\n",
    "                    root.left = str2tree(s.substring(start + 1, i));\n",
    "                } else {\n",
    "                    // Right subtree\n",
    "                    root.right = str2tree(s.substring(start + 1, i));\n",
    "                }\n",
    "                start = i + 1;\n",
    "            }\n",
    "        }\n",
    "    }\n",
    "\n",
    "    return root;\n",
    "}\n",
    "\n",
    "public static void inorderTraversal(TreeNode root) {\n",
    "    if (root == null) {\n",
    "        return;\n",
    "    }\n",
    "\n",
    "    inorderTraversal(root.left);\n",
    "    System.out.print(root.val + \" \");\n",
    "    inorderTraversal(root.right);\n",
    "}"
   ]
  },
  {
   "cell_type": "code",
   "execution_count": 11,
   "metadata": {
    "vscode": {
     "languageId": "java"
    }
   },
   "outputs": [
    {
     "name": "stdout",
     "output_type": "stream",
     "text": [
      "Inorder Traversal: 3 2 1 4 5 6 "
     ]
    }
   ],
   "source": [
    "String s = \"4(2(3)(1))(6(5))\";\n",
    "TreeNode root = str2tree(s);\n",
    "\n",
    "System.out.print(\"Inorder Traversal: \");\n",
    "inorderTraversal(root);"
   ]
  },
  {
   "attachments": {},
   "cell_type": "markdown",
   "metadata": {},
   "source": [
    "## 💡 **Question 5**\n",
    "\n",
    "Given an array of characters chars, compress it using the following algorithm:\n",
    "\n",
    "Begin with an empty string s. For each group of **consecutive repeating characters** in chars:\n",
    "\n",
    "- If the group's length is 1, append the character to s.\n",
    "- Otherwise, append the character followed by the group's length.\n",
    "\n",
    "The compressed string s **should not be returned separately**, but instead, be stored **in the input character array chars**. Note that group lengths that are 10 or longer will be split into multiple characters in chars.\n",
    "\n",
    "After you are done **modifying the input array,** return *the new length of the array*.\n",
    "\n",
    "You must write an algorithm that uses only constant extra space.\n",
    "\n",
    "**Example 1:**\n",
    "\n",
    "**Input:** chars = [\"a\",\"a\",\"b\",\"b\",\"c\",\"c\",\"c\"]\n",
    "\n",
    "**Output:** Return 6, and the first 6 characters of the input array should be: [\"a\",\"2\",\"b\",\"2\",\"c\",\"3\"]\n",
    "\n",
    "**Explanation:**\n",
    "\n",
    "The groups are \"aa\", \"bb\", and \"ccc\". This compresses to \"a2b2c3\".\n",
    "\n"
   ]
  },
  {
   "cell_type": "code",
   "execution_count": 30,
   "metadata": {
    "vscode": {
     "languageId": "java"
    }
   },
   "outputs": [],
   "source": [
    "public static int compress(char[] chars) {\n",
    "    return compressHelper(chars, 0, 0);\n",
    "}\n",
    "\n",
    "private static int compressHelper(char[] chars, int currentIndex, int writeIndex) {\n",
    "    if (currentIndex == chars.length) {\n",
    "        return writeIndex;\n",
    "    }\n",
    "\n",
    "    int count = 1;\n",
    "    while (currentIndex + 1 < chars.length && chars[currentIndex] == chars[currentIndex + 1]) {\n",
    "        count++;\n",
    "        currentIndex++;\n",
    "    }\n",
    "\n",
    "    chars[writeIndex++] = chars[currentIndex];\n",
    "\n",
    "    if (count > 1) {\n",
    "        String countStr = String.valueOf(count);\n",
    "        for (int i = 0; i < countStr.length(); i++) {\n",
    "            chars[writeIndex++] = countStr.charAt(i);\n",
    "        }\n",
    "    }\n",
    "\n",
    "    return compressHelper(chars, currentIndex + 1, writeIndex);\n",
    "}"
   ]
  },
  {
   "cell_type": "code",
   "execution_count": 31,
   "metadata": {
    "vscode": {
     "languageId": "java"
    }
   },
   "outputs": [
    {
     "name": "stdout",
     "output_type": "stream",
     "text": [
      "Compressed Array: a 2 b 2 c 3 \n"
     ]
    },
    {
     "name": "stdout",
     "output_type": "stream",
     "text": [
      "New Length: 6\n"
     ]
    }
   ],
   "source": [
    "char[] chars = {'a', 'a', 'b', 'b', 'c', 'c', 'c'};\n",
    "int compressedLength = compress(chars);\n",
    "\n",
    "System.out.print(\"Compressed Array: \");\n",
    "for (int i = 0; i < compressedLength; i++) {\n",
    "    System.out.print(chars[i] + \" \");\n",
    "}\n",
    "System.out.println();\n",
    "System.out.println(\"New Length: \" + compressedLength);"
   ]
  },
  {
   "attachments": {},
   "cell_type": "markdown",
   "metadata": {},
   "source": [
    "## 💡 **Question 6**\n",
    "\n",
    "Given two strings s and p, return *an array of all the start indices of* p*'s anagrams in* s. You may return the answer in **any order**.\n",
    "\n",
    "An **Anagram** is a word or phrase formed by rearranging the letters of a different word or phrase, typically using all the original letters exactly once.\n",
    "\n",
    "**Example 1:**\n",
    "\n",
    "**Input:** s = \"cbaebabacd\", p = \"abc\"\n",
    "\n",
    "**Output:** [0,6]\n",
    "\n",
    "**Explanation:**\n",
    "\n",
    "The substring with start index = 0 is \"cba\", which is an anagram of \"abc\".\n",
    "\n",
    "The substring with start index = 6 is \"bac\", which is an anagram of \"abc\".\n",
    "\n"
   ]
  },
  {
   "cell_type": "code",
   "execution_count": 32,
   "metadata": {
    "vscode": {
     "languageId": "java"
    }
   },
   "outputs": [],
   "source": [
    "import java.util.ArrayList;\n",
    "import java.util.List;\n",
    "\n",
    "public static List<Integer> findAnagrams(String s, String p) {\n",
    "    List<Integer> result = new ArrayList<>();\n",
    "    if (s.length() < p.length()) {\n",
    "        return result;\n",
    "    }\n",
    "\n",
    "    int[] pCount = new int[26];\n",
    "    for (char ch : p.toCharArray()) {\n",
    "        pCount[ch - 'a']++;\n",
    "    }\n",
    "\n",
    "    int left = 0;\n",
    "    int right = 0;\n",
    "    int count = p.length();\n",
    "\n",
    "    while (right < s.length()) {\n",
    "        if (pCount[s.charAt(right) - 'a'] > 0) {\n",
    "            count--;\n",
    "        }\n",
    "        pCount[s.charAt(right) - 'a']--;\n",
    "        right++;\n",
    "\n",
    "        if (count == 0) {\n",
    "            result.add(left);\n",
    "        }\n",
    "\n",
    "        if (right - left == p.length()) {\n",
    "            if (pCount[s.charAt(left) - 'a'] >= 0) {\n",
    "                count++;\n",
    "            }\n",
    "            pCount[s.charAt(left) - 'a']++;\n",
    "            left++;\n",
    "        }\n",
    "    }\n",
    "\n",
    "    return result;\n",
    "}"
   ]
  },
  {
   "cell_type": "code",
   "execution_count": 33,
   "metadata": {
    "vscode": {
     "languageId": "java"
    }
   },
   "outputs": [
    {
     "name": "stdout",
     "output_type": "stream",
     "text": [
      "Anagram Indices: [0, 6]\n"
     ]
    }
   ],
   "source": [
    "String s = \"cbaebabacd\";\n",
    "String p = \"abc\";\n",
    "\n",
    "List<Integer> indices = findAnagrams(s, p);\n",
    "\n",
    "System.out.println(\"Anagram Indices: \" + indices);"
   ]
  },
  {
   "attachments": {},
   "cell_type": "markdown",
   "metadata": {},
   "source": [
    "## 💡 **Question 7**\n",
    "\n",
    "Given an encoded string, return its decoded string.\n",
    "\n",
    "The encoding rule is: k[encoded_string], where the encoded_string inside the square brackets is being repeated exactly k times. Note that k is guaranteed to be a positive integer.\n",
    "\n",
    "You may assume that the input string is always valid; there are no extra white spaces, square brackets are well-formed, etc. Furthermore, you may assume that the original data does not contain any digits and that digits are only for those repeat numbers, k. For example, there will not be input like 3a or 2[4].\n",
    "\n",
    "The test cases are generated so that the length of the output will never exceed 105.\n",
    "\n",
    "**Example 1:**\n",
    "\n",
    "**Input:** s = \"3[a]2[bc]\"\n",
    "\n",
    "**Output:** \"aaabcbc\"\n"
   ]
  },
  {
   "cell_type": "code",
   "execution_count": 42,
   "metadata": {
    "vscode": {
     "languageId": "java"
    }
   },
   "outputs": [],
   "source": [
    "public static String decodeString(String s) {\n",
    "    StringBuilder result = new StringBuilder();\n",
    "    int index = 0;\n",
    "\n",
    "    while (index < s.length()) {\n",
    "        char currentChar = s.charAt(index);\n",
    "\n",
    "        if (Character.isDigit(currentChar)) {\n",
    "            int repeat = 0;\n",
    "            while (Character.isDigit(s.charAt(index))) {\n",
    "                repeat = repeat * 10 + (s.charAt(index) - '0');\n",
    "                index++;\n",
    "            }\n",
    "\n",
    "            index++; // Skip the opening '['\n",
    "            String subString = decodeString(s.substring(index));\n",
    "            index += subString.length() + 1; // Add 1 to skip the closing ']'\n",
    "\n",
    "            for (int i = 0; i < repeat; i++) {\n",
    "                result.append(subString);\n",
    "            }\n",
    "        } else if (currentChar == ']') {\n",
    "            index++; // Skip the closing ']'\n",
    "            break;\n",
    "        } else {\n",
    "            result.append(currentChar);\n",
    "            index++;\n",
    "        }\n",
    "    }\n",
    "\n",
    "    return result.toString();\n",
    "}"
   ]
  },
  {
   "cell_type": "code",
   "execution_count": 43,
   "metadata": {
    "vscode": {
     "languageId": "java"
    }
   },
   "outputs": [
    {
     "name": "stdout",
     "output_type": "stream",
     "text": [
      "Decoded String: aaabcbc\n"
     ]
    }
   ],
   "source": [
    "String s = \"3[a]2[bc]\";\n",
    "String decodedString = decodeString(s);\n",
    "\n",
    "System.out.println(\"Decoded String: \" + decodedString);"
   ]
  },
  {
   "attachments": {},
   "cell_type": "markdown",
   "metadata": {},
   "source": [
    "## 💡 **Question 8**\n",
    "\n",
    "Given two strings s and goal, return true *if you can swap two letters in* s *so the result is equal to* goal*, otherwise, return* false*.*\n",
    "\n",
    "Swapping letters is defined as taking two indices i and j (0-indexed) such that i != j and swapping the characters at s[i] and s[j].\n",
    "\n",
    "- For example, swapping at indices 0 and 2 in \"abcd\" results in \"cbad\".\n",
    "\n",
    "**Example 1:**\n",
    "\n",
    "**Input:** s = \"ab\", goal = \"ba\"\n",
    "\n",
    "**Output:** true\n",
    "\n",
    "**Explanation:** You can swap s[0] = 'a' and s[1] = 'b' to get \"ba\", which is equal to goal.\n"
   ]
  },
  {
   "cell_type": "code",
   "execution_count": 44,
   "metadata": {
    "vscode": {
     "languageId": "java"
    }
   },
   "outputs": [],
   "source": [
    "public static boolean isGoalPossible(String s, String goal) {\n",
    "    if (s.equals(goal)) {\n",
    "        return true;\n",
    "    }\n",
    "    \n",
    "    int n = s.length();\n",
    "    int diffCount = 0;\n",
    "    int[] diffIndices = new int[2];\n",
    "    \n",
    "    for (int i = 0; i < n; i++) {\n",
    "        if (s.charAt(i) != goal.charAt(i)) {\n",
    "            diffCount++;\n",
    "            \n",
    "            if (diffCount > 2) {\n",
    "                return false; \n",
    "            }\n",
    "            \n",
    "            diffIndices[diffCount - 1] = i; \n",
    "        }\n",
    "    }\n",
    "    \n",
    "    if (diffCount == 2) {\n",
    "        \n",
    "        String swapped = swapCharacters(s, diffIndices[0], diffIndices[1]);\n",
    "        return swapped.equals(goal);\n",
    "    }\n",
    "    \n",
    "    return false; \n",
    "}\n",
    "\n",
    "private static String swapCharacters(String s, int i, int j) {\n",
    "    char[] chars = s.toCharArray();\n",
    "    char temp = chars[i];\n",
    "    chars[i] = chars[j];\n",
    "    chars[j] = temp;\n",
    "    return new String(chars);\n",
    "}"
   ]
  },
  {
   "cell_type": "code",
   "execution_count": 45,
   "metadata": {
    "vscode": {
     "languageId": "java"
    }
   },
   "outputs": [
    {
     "name": "stdout",
     "output_type": "stream",
     "text": [
      "Is Goal Possible: true\n"
     ]
    }
   ],
   "source": [
    "String s = \"ab\";\n",
    "String goal = \"ba\";\n",
    "\n",
    "boolean isPossible = isGoalPossible(s, goal);\n",
    "\n",
    "System.out.println(\"Is Goal Possible: \" + isPossible);"
   ]
  },
  {
   "attachments": {},
   "cell_type": "markdown",
   "metadata": {},
   "source": [
    "# Thank You!"
   ]
  }
 ],
 "metadata": {
  "kernelspec": {
   "display_name": "Java",
   "language": "java",
   "name": "java"
  },
  "language_info": {
   "codemirror_mode": "java",
   "file_extension": ".jshell",
   "mimetype": "text/x-java-source",
   "name": "Java",
   "pygments_lexer": "java",
   "version": "17.0.6+10-Debian-1"
  },
  "orig_nbformat": 4
 },
 "nbformat": 4,
 "nbformat_minor": 2
}
