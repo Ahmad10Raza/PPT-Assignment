{
 "cells": [
  {
   "attachments": {},
   "cell_type": "markdown",
   "metadata": {},
   "source": [
    "# Assignment 06"
   ]
  },
  {
   "attachments": {},
   "cell_type": "markdown",
   "metadata": {},
   "source": [
    "## 💡 **Question 1**\n",
    "\n",
    "A permutation perm of n + 1 integers of all the integers in the range [0, n] can be represented as a string s of length n where:\n",
    "\n",
    "- s[i] == 'I' if perm[i] < perm[i + 1], and\n",
    "- s[i] == 'D' if perm[i] > perm[i + 1].\n",
    "\n",
    "Given a string s, reconstruct the permutation perm and return it. If there are multiple valid permutations perm, return **any of them**.\n",
    "\n",
    "**Example 1:**\n",
    "\n",
    "**Input:** s = \"IDID\"\n",
    "\n",
    "**Output:**\n",
    "\n",
    "[0,4,1,3,2]\n",
    "\n"
   ]
  },
  {
   "cell_type": "code",
   "execution_count": 1,
   "metadata": {
    "vscode": {
     "languageId": "java"
    }
   },
   "outputs": [],
   "source": [
    "public static int[] reconstructPermutation(String s) {\n",
    "    int n = s.length();\n",
    "    int[] perm = new int[n + 1];\n",
    "    for (int i = 0; i < n; i++) {\n",
    "        if (s.charAt(i) == 'I') {\n",
    "            perm[i + 1] = perm[i] + 1;\n",
    "        } else {\n",
    "            perm[i + 1] = perm[i] - 1;\n",
    "        }\n",
    "    }\n",
    "    for (int i = 1; i <= n; i++) {\n",
    "        perm[perm[i]] = i;\n",
    "    }\n",
    "    return perm;\n",
    "}"
   ]
  },
  {
   "cell_type": "code",
   "execution_count": 2,
   "metadata": {
    "vscode": {
     "languageId": "java"
    }
   },
   "outputs": [
    {
     "name": "stdout",
     "output_type": "stream",
     "text": [
      "4 3 0 1 0 "
     ]
    }
   ],
   "source": [
    "String s = \"IDID\";\n",
    "int[] perm = reconstructPermutation(s);\n",
    "    for (int i = 0; i < perm.length; i++) {\n",
    "            System.out.print(perm[i] + \" \");\n",
    "}"
   ]
  },
  {
   "attachments": {},
   "cell_type": "markdown",
   "metadata": {},
   "source": [
    "## <aside>\n",
    "💡 **Question 2**\n",
    "\n",
    "You are given an m x n integer matrix matrix with the following two properties:\n",
    "\n",
    "- Each row is sorted in non-decreasing order.\n",
    "- The first integer of each row is greater than the last integer of the previous row.\n",
    "\n",
    "Given an integer target, return true *if* target *is in* matrix *or* false *otherwise*.\n",
    "\n",
    "You must write a solution in O(log(m * n)) time complexity.\n",
    "\n",
    "**Example 1:**\n",
    "\n",
    "![Screenshot 2023-05-29 005303.png](https://s3-us-west-2.amazonaws.com/secure.notion-static.com/e4b0271f-15f0-4744-826b-18500ccfcb75/Screenshot_2023-05-29_005303.png)\n",
    "\n",
    "\n",
    "**Input:** matrix = [[1,3,5,7],[10,11,16,20],[23,30,34,60]], target = 3\n",
    "\n",
    "**Output:** true\n"
   ]
  },
  {
   "cell_type": "code",
   "execution_count": 3,
   "metadata": {
    "vscode": {
     "languageId": "java"
    }
   },
   "outputs": [],
   "source": [
    "public static boolean searchSortedMatrix(int[][] matrix, int target) {\n",
    "    int m = matrix.length;\n",
    "    int n = matrix[0].length;\n",
    "    int row = 0;\n",
    "    int col = n - 1;\n",
    "    while (row < m && col >= 0) {\n",
    "        if (matrix[row][col] == target) {\n",
    "            return true;\n",
    "        } else if (matrix[row][col] < target) {\n",
    "            row++;\n",
    "        } else {\n",
    "            col--;\n",
    "        }\n",
    "    }\n",
    "    return false;\n",
    "}"
   ]
  },
  {
   "cell_type": "code",
   "execution_count": 5,
   "metadata": {
    "vscode": {
     "languageId": "java"
    }
   },
   "outputs": [
    {
     "name": "stdout",
     "output_type": "stream",
     "text": [
      "true\n"
     ]
    }
   ],
   "source": [
    "int[][] matrix = {{1, 3, 5, 7}, {10, 11, 16, 20}, {23, 30, 34, 60}};\n",
    "        int target = 3;\n",
    "        boolean found = searchSortedMatrix(matrix, target);\n",
    "        System.out.println(found);"
   ]
  },
  {
   "attachments": {},
   "cell_type": "markdown",
   "metadata": {},
   "source": [
    "## <aside>\n",
    "💡 **Question 3**\n",
    "\n",
    "Given an array of integers arr, return *true if and only if it is a valid mountain array*.\n",
    "\n",
    "Recall that arr is a mountain array if and only if:\n",
    "\n",
    "- arr.length >= 3\n",
    "- There exists some i with 0 < i < arr.length - 1 such that:\n",
    "    - arr[0] < arr[1] < ... < arr[i - 1] < arr[i]\n",
    "    - arr[i] > arr[i + 1] > ... > arr[arr.length - 1]\n",
    "\n",
    "![Screenshot 2023-05-29 005352.png](https://s3-us-west-2.amazonaws.com/secure.notion-static.com/5565e778-ac57-4ced-85a2-ccb13268bdf6/Screenshot_2023-05-29_005352.png)\n",
    "\n",
    "**Example 1:**\n",
    "\n",
    "**Input:** arr = [2,1]\n",
    "\n",
    "**Output:**\n",
    "\n",
    "false\n"
   ]
  },
  {
   "cell_type": "code",
   "execution_count": 6,
   "metadata": {
    "vscode": {
     "languageId": "java"
    }
   },
   "outputs": [],
   "source": [
    "public static boolean validMountainArray(int[] arr) {\n",
    "    if (arr.length < 3) {\n",
    "        return false;\n",
    "    }\n",
    "\n",
    "    int i = 1;\n",
    "    while (i < arr.length && arr[i] > arr[i - 1]) {\n",
    "        i++;\n",
    "    }\n",
    "\n",
    "    if (i == arr.length) {\n",
    "        return false;\n",
    "    }\n",
    "\n",
    "    while (i < arr.length - 1) {\n",
    "        if (arr[i] <= arr[i + 1]) {\n",
    "            return false;\n",
    "        }\n",
    "        i++;\n",
    "    }\n",
    "\n",
    "    return true;\n",
    "}"
   ]
  },
  {
   "cell_type": "code",
   "execution_count": 7,
   "metadata": {
    "vscode": {
     "languageId": "java"
    }
   },
   "outputs": [
    {
     "name": "stdout",
     "output_type": "stream",
     "text": [
      "false\n"
     ]
    }
   ],
   "source": [
    "int[] arr = {2, 1};\n",
    "boolean valid = validMountainArray(arr);\n",
    "System.out.println(valid);\n"
   ]
  },
  {
   "attachments": {},
   "cell_type": "markdown",
   "metadata": {},
   "source": [
    "##  💡 **Question 4**\n",
    "\n",
    "Given a binary array nums, return *the maximum length of a contiguous subarray with an equal number of* 0 *and* 1.\n",
    "\n",
    "**Example 1:**\n",
    "\n",
    "**Input:** nums = [0,1]\n",
    "\n",
    "**Output:** 2\n",
    "\n",
    "**Explanation:**\n",
    "\n",
    "[0, 1] is the longest contiguous subarray with an equal number of 0 and 1.\n"
   ]
  },
  {
   "cell_type": "code",
   "execution_count": 10,
   "metadata": {
    "vscode": {
     "languageId": "java"
    }
   },
   "outputs": [],
   "source": [
    "public static int findMaxLength(int[] nums) {\n",
    "    int maxLength = 0;\n",
    "    int count = 0;\n",
    "\n",
    "    HashMap<Integer, Integer> countMap = new HashMap<>();\n",
    "    countMap.put(0, -1);\n",
    "\n",
    "    for (int i = 0; i < nums.length; i++) {\n",
    "\n",
    "        count += (nums[i] == 1 ? 1 : -1);\n",
    "\n",
    "        if (countMap.containsKey(count)) {\n",
    "            \n",
    "            \n",
    "            maxLength = Math.max(maxLength, i - countMap.get(count));\n",
    "        } else {\n",
    "\n",
    "\n",
    "            countMap.put(count, i);\n",
    "        }\n",
    "    }\n",
    "\n",
    "    return maxLength;\n",
    "}"
   ]
  },
  {
   "cell_type": "code",
   "execution_count": 11,
   "metadata": {
    "vscode": {
     "languageId": "java"
    }
   },
   "outputs": [
    {
     "name": "stdout",
     "output_type": "stream",
     "text": [
      "2\n"
     ]
    }
   ],
   "source": [
    "int[] nums = {0, 1};\n",
    "int maxLen = findMaxLength(nums);\n",
    "System.out.println(maxLen);\n",
    "    "
   ]
  },
  {
   "attachments": {},
   "cell_type": "markdown",
   "metadata": {},
   "source": [
    "## 💡 **Question 5**\n",
    "\n",
    "The **product sum** of two equal-length arrays a and b is equal to the sum of a[i] * b[i] for all 0 <= i < a.length (**0-indexed**).\n",
    "\n",
    "- For example, if a = [1,2,3,4] and b = [5,2,3,1], the **product sum** would be 1*5 + 2*2 + 3*3 + 4*1 = 22.\n",
    "\n",
    "Given two arrays nums1 and nums2 of length n, return *the **minimum product sum** if you are allowed to **rearrange** the **order** of the elements in* nums1.\n",
    "\n",
    "**Example 1:**\n",
    "\n",
    "**Input:** nums1 = [5,3,4,2], nums2 = [4,2,2,5]\n",
    "\n",
    "**Output:** 40\n",
    "\n",
    "**Explanation:**\n",
    "\n",
    "We can rearrange nums1 to become [3,5,4,2]. The product sum of [3,5,4,2] and [4,2,2,5] is 3*4 + 5*2 + 4*2 + 2*5 = 40.\n"
   ]
  },
  {
   "cell_type": "code",
   "execution_count": 14,
   "metadata": {
    "vscode": {
     "languageId": "java"
    }
   },
   "outputs": [],
   "source": [
    "public static int minProductSum(int[] nums1, int[] nums2) {\n",
    "    Arrays.sort(nums1); // Sort nums1 in ascending order\n",
    "    Arrays.sort(nums2); // Sort nums2 in ascending order\n",
    "\n",
    "    int n = nums1.length;\n",
    "    int minProductSum = 0;\n",
    "\n",
    "    for (int i = 0; i < n; i++) {\n",
    "        minProductSum += nums1[i] * nums2[n - 1 - i];\n",
    "    }\n",
    "\n",
    "    return minProductSum;\n",
    "}"
   ]
  },
  {
   "cell_type": "code",
   "execution_count": 15,
   "metadata": {
    "vscode": {
     "languageId": "java"
    }
   },
   "outputs": [
    {
     "name": "stdout",
     "output_type": "stream",
     "text": [
      "40\n"
     ]
    }
   ],
   "source": [
    "int[] nums1 = {5, 3, 4, 2};\n",
    "int[] nums2 = {4, 2, 2, 5};\n",
    "int minProductSum = minProductSum(nums1, nums2);\n",
    "System.out.println(minProductSum);"
   ]
  },
  {
   "attachments": {},
   "cell_type": "markdown",
   "metadata": {},
   "source": [
    "## 💡 **Question 6**\n",
    "\n",
    "An integer array original is transformed into a **doubled** array changed by appending **twice the value** of every element in original, and then randomly **shuffling** the resulting array.\n",
    "\n",
    "Given an array changed, return original *if* changed *is a **doubled** array. If* changed *is not a **doubled** array, return an empty array. The elements in* original *may be returned in **any** order*.\n",
    "\n",
    "**Example 1:**\n",
    "\n",
    "**Input:** changed = [1,3,4,2,6,8]\n",
    "\n",
    "**Output:** [1,3,4]\n",
    "\n",
    "**Explanation:** One possible original array could be [1,3,4]:\n",
    "\n",
    "- Twice the value of 1 is 1 * 2 = 2.\n",
    "- Twice the value of 3 is 3 * 2 = 6.\n",
    "- Twice the value of 4 is 4 * 2 = 8.\n",
    "\n",
    "Other original arrays could be [4,3,1] or [3,1,4].\n"
   ]
  },
  {
   "cell_type": "code",
   "execution_count": 16,
   "metadata": {
    "vscode": {
     "languageId": "java"
    }
   },
   "outputs": [],
   "source": [
    "public static int[] findOriginalArray(int[] changed) {\n",
    "    int n = changed.length;\n",
    "    int[] original = new int[n / 2];\n",
    "\n",
    "    \n",
    "    if (n % 2 != 0) {\n",
    "        return new int[0]; \n",
    "    }\n",
    "\n",
    "   \n",
    "    HashMap<Integer, Integer> frequencyMap = new HashMap<>();\n",
    "    for (int num : changed) {\n",
    "        frequencyMap.put(num, frequencyMap.getOrDefault(num, 0) + 1);\n",
    "    }\n",
    "\n",
    "    \n",
    "    Arrays.sort(changed);\n",
    "\n",
    "    int index = 0;\n",
    "    for (int i = 0; i < n; i++) {\n",
    "        int num = changed[i];\n",
    "\n",
    "        \n",
    "        if (frequencyMap.getOrDefault(num, 0) == 0) {\n",
    "            continue;\n",
    "        }\n",
    "\n",
    "        \n",
    "        int doubledNum = 2 * num;\n",
    "\n",
    "        \n",
    "        if (frequencyMap.getOrDefault(doubledNum, 0) > 0) {\n",
    "            \n",
    "            original[index] = num;\n",
    "            index++;\n",
    "\n",
    "            \n",
    "            frequencyMap.put(doubledNum, frequencyMap.get(doubledNum) - 1);\n",
    "        } else {\n",
    "            return new int[0]; \n",
    "        }\n",
    "    }\n",
    "\n",
    "    return original;\n",
    "}"
   ]
  },
  {
   "cell_type": "code",
   "execution_count": 17,
   "metadata": {
    "vscode": {
     "languageId": "java"
    }
   },
   "outputs": [
    {
     "name": "stdout",
     "output_type": "stream",
     "text": [
      "Original array: [1, 3, 4]\n"
     ]
    }
   ],
   "source": [
    "int[] changed = {1, 3, 4, 2, 6, 8};\n",
    "int[] original = findOriginalArray(changed);\n",
    "\n",
    "System.out.println(\"Original array: \" + Arrays.toString(original))"
   ]
  },
  {
   "attachments": {},
   "cell_type": "markdown",
   "metadata": {},
   "source": [
    "## 💡 **Question 7**\n",
    "\n",
    "Given a positive integer n, generate an n x n matrix filled with elements from 1 to n2 in spiral order.\n",
    "\n",
    "**Example 1:**\n",
    "**Input:** n = 3\n",
    "\n",
    "**Output:** [[1,2,3],[8,9,4],[7,6,5]]\n"
   ]
  },
  {
   "cell_type": "code",
   "execution_count": 23,
   "metadata": {
    "vscode": {
     "languageId": "java"
    }
   },
   "outputs": [],
   "source": [
    "public static int[][] generateMatrix(int n) {\n",
    "    int[][] matrix = new int[n][n];\n",
    "    int num = 1; \n",
    "    int rowStart = 0, rowEnd = n - 1;\n",
    "    int colStart = 0, colEnd = n - 1;\n",
    "\n",
    "    while (rowStart <= rowEnd && colStart <= colEnd) {\n",
    "       \n",
    "        for (int i = colStart; i <= colEnd; i++) {\n",
    "            matrix[rowStart][i] = num++;\n",
    "        }\n",
    "        rowStart++;\n",
    "\n",
    "        \n",
    "        for (int i = rowStart; i <= rowEnd; i++) {\n",
    "            matrix[i][colEnd] = num++;\n",
    "        }\n",
    "        colEnd--;\n",
    "\n",
    "       \n",
    "        if (rowStart <= rowEnd) {\n",
    "            for (int i = colEnd; i >= colStart; i--) {\n",
    "                matrix[rowEnd][i] = num++;\n",
    "            }\n",
    "            rowEnd--;\n",
    "        }\n",
    "\n",
    "       \n",
    "        if (colStart <= colEnd) {\n",
    "            for (int i = rowEnd; i >= rowStart; i--) {\n",
    "                matrix[i][colStart] = num++;\n",
    "            }\n",
    "            colStart++;\n",
    "        }\n",
    "    }\n",
    "\n",
    "    return matrix;\n",
    "}"
   ]
  },
  {
   "cell_type": "code",
   "execution_count": 19,
   "metadata": {
    "vscode": {
     "languageId": "java"
    }
   },
   "outputs": [
    {
     "name": "stdout",
     "output_type": "stream",
     "text": [
      "Spiral matrix:\n",
      "[1, 2, 3]\n",
      "[8, 9, 4]\n",
      "[7, 6, 5]\n"
     ]
    }
   ],
   "source": [
    "int n = 3;\n",
    "int[][] matrix = generateMatrix(n);\n",
    "\n",
    "System.out.println(\"Spiral matrix:\");\n",
    "for (int[] row : matrix) {\n",
    "System.out.println(Arrays.toString(row));\n",
    "}"
   ]
  },
  {
   "attachments": {},
   "cell_type": "markdown",
   "metadata": {},
   "source": [
    "## 💡 **Question 8**\n",
    "\n",
    "Given two [sparse matrices](https://en.wikipedia.org/wiki/Sparse_matrix) mat1 of size m x k and mat2 of size k x n, return the result of mat1 x mat2. You may assume that multiplication is always possible.\n",
    "\n",
    "**Example 1:**\n",
    "**Input:** mat1 = [[1,0,0],[-1,0,3]], mat2 = [[7,0,0],[0,0,0],[0,0,1]]\n",
    "**Output:**\n",
    "[[7,0,0],[-7,0,3]]"
   ]
  },
  {
   "cell_type": "code",
   "execution_count": 21,
   "metadata": {
    "vscode": {
     "languageId": "java"
    }
   },
   "outputs": [],
   "source": [
    "public static int[][] multiply(int[][] mat1, int[][] mat2) {\n",
    "    int m = mat1.length; \n",
    "    int k = mat1[0].length; \n",
    "    int n = mat2[0].length; \n",
    "\n",
    "    int[][] result = new int[m][n];\n",
    "\n",
    "    for (int i = 0; i < m; i++) {\n",
    "        for (int j = 0; j < n; j++) {\n",
    "            for (int x = 0; x < k; x++) {\n",
    "                result[i][j] += mat1[i][x] * mat2[x][j];\n",
    "            }\n",
    "        }\n",
    "    }\n",
    "\n",
    "    return result;\n",
    "}"
   ]
  },
  {
   "cell_type": "code",
   "execution_count": 22,
   "metadata": {
    "vscode": {
     "languageId": "java"
    }
   },
   "outputs": [
    {
     "name": "stdout",
     "output_type": "stream",
     "text": [
      "Result of mat1 x mat2:\n",
      "7 0 0 \n",
      "-7 0 3 \n"
     ]
    }
   ],
   "source": [
    "int[][] mat1 = {{1, 0, 0}, {-1, 0, 3}};\n",
    "int[][] mat2 = {{7, 0, 0}, {0, 0, 0}, {0, 0, 1}};\n",
    "\n",
    "int[][] result = multiply(mat1, mat2);\n",
    "\n",
    "System.out.println(\"Result of mat1 x mat2:\");\n",
    "for (int[] row : result) {\n",
    "    for (int num : row) {\n",
    "        System.out.print(num + \" \");\n",
    "    }\n",
    "System.out.println();\n",
    "}"
   ]
  },
  {
   "attachments": {},
   "cell_type": "markdown",
   "metadata": {},
   "source": [
    "# Thank You!"
   ]
  }
 ],
 "metadata": {
  "kernelspec": {
   "display_name": "Java",
   "language": "java",
   "name": "java"
  },
  "language_info": {
   "codemirror_mode": "java",
   "file_extension": ".jshell",
   "mimetype": "text/x-java-source",
   "name": "Java",
   "pygments_lexer": "java",
   "version": "17.0.6+10-Debian-1"
  },
  "orig_nbformat": 4
 },
 "nbformat": 4,
 "nbformat_minor": 2
}
